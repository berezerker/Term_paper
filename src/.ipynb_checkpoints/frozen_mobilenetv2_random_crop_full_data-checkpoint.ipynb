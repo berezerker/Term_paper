{
 "cells": [
  {
   "cell_type": "code",
   "execution_count": 24,
   "metadata": {
    "executionInfo": {
     "elapsed": 398,
     "status": "ok",
     "timestamp": 1682880648035,
     "user": {
      "displayName": "Алексей Березкин",
      "userId": "11071551650684630592"
     },
     "user_tz": -180
    },
    "id": "DCKqfm58MbOm"
   },
   "outputs": [],
   "source": [
    "import shutil\n",
    "import os\n",
    "from PIL import Image\n",
    "from random import sample\n",
    "import torch\n",
    "from torch.utils.data import Dataset, DataLoader\n",
    "import numpy as np\n",
    "import torchvision.transforms as T\n",
    "import re\n",
    "import requests\n",
    "import matplotlib.pyplot as plt\n",
    "%matplotlib inline\n",
    "from torchvision.utils import make_grid\n",
    "import torch.nn.functional as F\n",
    "import torch.nn as nn\n",
    "from torch.nn import BCELoss\n",
    "from sklearn.metrics import classification_report, accuracy_score, auc\n",
    "from tqdm.notebook import tqdm\n",
    "from yacs.config import CfgNode as CN\n",
    "from datetime import datetime\n",
    "from PIL import ImageFile\n",
    "ImageFile.LOAD_TRUNCATED_IMAGES = True"
   ]
  },
  {
   "cell_type": "code",
   "execution_count": 25,
   "metadata": {
    "colab": {
     "base_uri": "https://localhost:8080/"
    },
    "executionInfo": {
     "elapsed": 351,
     "status": "ok",
     "timestamp": 1682880654317,
     "user": {
      "displayName": "Алексей Березкин",
      "userId": "11071551650684630592"
     },
     "user_tz": -180
    },
    "id": "C-8dWUNTWN4o",
    "outputId": "62ec3121-a049-441f-ac6e-75d1449aebd0"
   },
   "outputs": [
    {
     "data": {
      "text/plain": [
       "(0, 0)"
      ]
     },
     "execution_count": 25,
     "metadata": {},
     "output_type": "execute_result"
    }
   ],
   "source": [
    "r = torch.cuda.memory_reserved(0)\n",
    "a = torch.cuda.memory_allocated(0)\n",
    "r, a"
   ]
  },
  {
   "cell_type": "code",
   "execution_count": 40,
   "metadata": {
    "executionInfo": {
     "elapsed": 1,
     "status": "ok",
     "timestamp": 1682880654676,
     "user": {
      "displayName": "Алексей Березкин",
      "userId": "11071551650684630592"
     },
     "user_tz": -180
    },
    "id": "Igyf6zL8NQC4"
   },
   "outputs": [],
   "source": [
    "_C = CN()\n",
    "\n",
    "_C.ROOT_PATH = \"../data\"\n",
    "_C.TRAIN_PATH = os.path.join(_C.ROOT_PATH, 'train')\n",
    "_C.VAL_PATH = os.path.join(_C.ROOT_PATH, 'test')\n",
    "_C.CLASSES = ['blur', 'demoir', 'haze', 'rain']\n",
    "_C.BATCH_SIZE = 4\n",
    "\n",
    "#values for preprocessing\n",
    "_C.IMAGE_W = 500\n",
    "_C.IMAGE_H = 500\n",
    "_C.MEAN = [0.4649, 0.4426, 0.4149]\n",
    "_C.VAR = [0.2830, 0.2772, 0.2891]"
   ]
  },
  {
   "cell_type": "code",
   "execution_count": 41,
   "metadata": {
    "colab": {
     "base_uri": "https://localhost:8080/"
    },
    "executionInfo": {
     "elapsed": 510,
     "status": "ok",
     "timestamp": 1682880655185,
     "user": {
      "displayName": "Алексей Березкин",
      "userId": "11071551650684630592"
     },
     "user_tz": -180
    },
    "id": "TZsvriJiNuQ4",
    "outputId": "61556ba6-093e-498a-9825-e451520024e6"
   },
   "outputs": [
    {
     "name": "stdout",
     "output_type": "stream",
     "text": [
      "['blur', 'demoir', 'haze', 'rain']\n",
      "4\n"
     ]
    }
   ],
   "source": [
    "print(os.listdir(_C.TRAIN_PATH))\n",
    "print(len(os.listdir(_C.TRAIN_PATH)))"
   ]
  },
  {
   "cell_type": "code",
   "execution_count": 42,
   "metadata": {
    "colab": {
     "base_uri": "https://localhost:8080/"
    },
    "executionInfo": {
     "elapsed": 838,
     "status": "ok",
     "timestamp": 1682880656022,
     "user": {
      "displayName": "Алексей Березкин",
      "userId": "11071551650684630592"
     },
     "user_tz": -180
    },
    "id": "LpFD3JWkNvFj",
    "outputId": "68ce0091-1da9-4021-91a2-d5c649c66fe8"
   },
   "outputs": [
    {
     "name": "stdout",
     "output_type": "stream",
     "text": [
      "['blur', 'demoir', 'haze', 'rain']\n",
      "4\n"
     ]
    }
   ],
   "source": [
    "print(os.listdir(_C.VAL_PATH))\n",
    "print(len(os.listdir(_C.VAL_PATH)))"
   ]
  },
  {
   "cell_type": "markdown",
   "metadata": {
    "id": "zbxdTdOwPCxW"
   },
   "source": [
    "decoding encoding labels"
   ]
  },
  {
   "cell_type": "code",
   "execution_count": 43,
   "metadata": {
    "executionInfo": {
     "elapsed": 1,
     "status": "ok",
     "timestamp": 1682880656022,
     "user": {
      "displayName": "Алексей Березкин",
      "userId": "11071551650684630592"
     },
     "user_tz": -180
    },
    "id": "5TPr3RMLO-SX"
   },
   "outputs": [],
   "source": [
    "def encode_label(label, classes_list = _C.CLASSES): #encoding the classes into a tensor of shape (4) with 0s and 1s.\n",
    "    target = torch.zeros(len(classes_list))\n",
    "    for l in label:\n",
    "      if l in classes_list:\n",
    "          idx = classes_list.index(l)\n",
    "          target[idx] = 1\n",
    "    return target\n",
    "\n",
    "def decode_target(target, threshold=0.5): #decoding the prediction tensors of 0s and 1s into text form\n",
    "    result = []\n",
    "    for i, x in enumerate(target):\n",
    "        if (x >= threshold):\n",
    "          result.append(_C.CLASSES[i])\n",
    "    if len(result) == 0:\n",
    "        return \"clear\"\n",
    "    else:\n",
    "        return ' '.join(result)"
   ]
  },
  {
   "cell_type": "markdown",
   "metadata": {
    "id": "ll89wUNHPI2r"
   },
   "source": [
    "A class creating dataset from a folder with different types of images, separated by types of degradation, applied to a picture."
   ]
  },
  {
   "cell_type": "code",
   "execution_count": 44,
   "metadata": {
    "executionInfo": {
     "elapsed": 1,
     "status": "ok",
     "timestamp": 1682880656022,
     "user": {
      "displayName": "Алексей Березкин",
      "userId": "11071551650684630592"
     },
     "user_tz": -180
    },
    "id": "aL4M7XhFPEUy",
    "tags": []
   },
   "outputs": [],
   "source": [
    "# A class to create a Custom Dataset that will load images and encode the labels of those images from their folder names\n",
    "class myDataset(Dataset):\n",
    "    def __init__(self, root_dir, transform=None):\n",
    "        self.transform = transform\n",
    "        self.root_dir = root_dir\n",
    "        self.images = get_path_names(root_dir)              \n",
    "\n",
    "    def __len__(self):\n",
    "        return len(self.images)       \n",
    "    def im_path(self, idx):\n",
    "        return self.images[idx]\n",
    "    def __getitem__(self, idx):\n",
    "        img_path = self.images[idx]\n",
    "        img = Image.open(img_path)\n",
    "        if self.transform:\n",
    "            img = self.transform(img) \n",
    "        \n",
    "        label = img_path.split('/')[3].split('_')\n",
    "        if 'clear_gt' in img_path:\n",
    "            encoded_label = torch.Tensor([0,0,0,0])\n",
    "        else:\n",
    "            encoded_label = encode_label(label)\n",
    "        \n",
    "        return img, encoded_label, encode_label(label)"
   ]
  },
  {
   "cell_type": "markdown",
   "metadata": {
    "id": "HVAYWvO3PSRJ"
   },
   "source": [
    "A function, that lists all images contained in the folder."
   ]
  },
  {
   "cell_type": "code",
   "execution_count": 45,
   "metadata": {
    "executionInfo": {
     "elapsed": 1,
     "status": "ok",
     "timestamp": 1682880656022,
     "user": {
      "displayName": "Алексей Березкин",
      "userId": "11071551650684630592"
     },
     "user_tz": -180
    },
    "id": "VaOFTKsUPPe1"
   },
   "outputs": [],
   "source": [
    "#Making a list that contains the paths of each image\n",
    "def get_path_names(folder):\n",
    "  images = []\n",
    "  for path, subdirs, files in os.walk(folder):  \n",
    "    for name in files: \n",
    "      images.append(os.path.join(path, name))\n",
    "  return images"
   ]
  },
  {
   "cell_type": "markdown",
   "metadata": {
    "id": "8Gv7CZK9PWQN"
   },
   "source": [
    "defining transforms for training and validation dataset"
   ]
  },
  {
   "cell_type": "code",
   "execution_count": 46,
   "metadata": {
    "executionInfo": {
     "elapsed": 1,
     "status": "ok",
     "timestamp": 1682880656022,
     "user": {
      "displayName": "Алексей Березкин",
      "userId": "11071551650684630592"
     },
     "user_tz": -180
    },
    "id": "u47KpFBsPa1b"
   },
   "outputs": [],
   "source": [
    "#setting a set of transformations to transform the images \n",
    "train_trans = T.Compose([T.Resize((_C.IMAGE_W, _C.IMAGE_H)),\n",
    "                      T.RandomHorizontalFlip(),\n",
    "                      T.RandomRotation(2),\n",
    "                      T.ToTensor(),\n",
    "                      T.Normalize(_C.MEAN, _C.VAR)])\n",
    "val_trans = T.Compose([T.Resize((_C.IMAGE_W, _C.IMAGE_H)),\n",
    "                       T.ToTensor(),\n",
    "                       T.Normalize(_C.MEAN, _C.VAR)])"
   ]
  },
  {
   "cell_type": "code",
   "execution_count": 47,
   "metadata": {
    "colab": {
     "base_uri": "https://localhost:8080/"
    },
    "executionInfo": {
     "elapsed": 28024,
     "status": "ok",
     "timestamp": 1682880684045,
     "user": {
      "displayName": "Алексей Березкин",
      "userId": "11071551650684630592"
     },
     "user_tz": -180
    },
    "id": "iUNDhtT6QVfV",
    "outputId": "187bf221-1da9-46a2-cc94-028a1b8a6bd0"
   },
   "outputs": [
    {
     "name": "stdout",
     "output_type": "stream",
     "text": [
      "30213\n",
      "7629\n"
     ]
    }
   ],
   "source": [
    "train_dataset = myDataset(_C.TRAIN_PATH, transform = train_trans)\n",
    "val_dataset = myDataset(_C.VAL_PATH, transform = val_trans)\n",
    "print(len(train_dataset))\n",
    "print(len(val_dataset))"
   ]
  },
  {
   "cell_type": "code",
   "execution_count": 48,
   "metadata": {
    "colab": {
     "base_uri": "https://localhost:8080/",
     "height": 489
    },
    "executionInfo": {
     "elapsed": 461,
     "status": "ok",
     "timestamp": 1682880684496,
     "user": {
      "displayName": "Алексей Березкин",
      "userId": "11071551650684630592"
     },
     "user_tz": -180
    },
    "id": "0nu131ceQz-F",
    "outputId": "cfefaaeb-55fc-4716-a632-96de9c471ed9"
   },
   "outputs": [
    {
     "name": "stderr",
     "output_type": "stream",
     "text": [
      "Clipping input data to the valid range for imshow with RGB data ([0..1] for floats or [0..255] for integers).\n"
     ]
    },
    {
     "name": "stdout",
     "output_type": "stream",
     "text": [
      "Label: clear\n",
      "mask: blur\n",
      "\n",
      "tensor([0., 0., 0., 0.])\n",
      "../data/train/blur/clear_gt/real_blur/gt_197.png\n"
     ]
    },
    {
     "data": {
      "image/png": "[encoded data removed]",
      "text/plain": [
       "<Figure size 640x480 with 1 Axes>"
      ]
     },
     "metadata": {},
     "output_type": "display_data"
    }
   ],
   "source": [
    "def show_example(img, label, mask):\n",
    "  plt.imshow(img.permute(1,2,0))\n",
    "  print(\"Label:\", decode_target(label))\n",
    "  print(\"mask:\", decode_target(mask))\n",
    "  print()\n",
    "  print(label)\n",
    "\n",
    "show_example(*train_dataset[5000])\n",
    "print(train_dataset.im_path(5000))"
   ]
  },
  {
   "cell_type": "code",
   "execution_count": 49,
   "metadata": {},
   "outputs": [
    {
     "name": "stderr",
     "output_type": "stream",
     "text": [
      "Clipping input data to the valid range for imshow with RGB data ([0..1] for floats or [0..255] for integers).\n"
     ]
    },
    {
     "name": "stdout",
     "output_type": "stream",
     "text": [
      "Label: clear\n",
      "mask: demoir\n",
      "\n",
      "tensor([0., 0., 0., 0.])\n"
     ]
    },
    {
     "data": {
      "text/plain": [
       "'../data/test/demoir/clear_gt/image_374.jpg'"
      ]
     },
     "execution_count": 49,
     "metadata": {},
     "output_type": "execute_result"
    },
    {
     "data": {
      "image/png": "[encoded data removed]",
      "text/plain": [
       "<Figure size 640x480 with 1 Axes>"
      ]
     },
     "metadata": {},
     "output_type": "display_data"
    }
   ],
   "source": [
    "show_example(*val_dataset[3350])\n",
    "val_dataset.im_path(3350)"
   ]
  },
  {
   "cell_type": "code",
   "execution_count": 50,
   "metadata": {
    "executionInfo": {
     "elapsed": 228,
     "status": "ok",
     "timestamp": 1682881131118,
     "user": {
      "displayName": "Алексей Березкин",
      "userId": "11071551650684630592"
     },
     "user_tz": -180
    },
    "id": "T_6VuOV5Q7UV"
   },
   "outputs": [],
   "source": [
    "train_loader = DataLoader(train_dataset, _C.BATCH_SIZE, shuffle=True, num_workers = 12)\n",
    "val_loader = DataLoader(val_dataset, _C.BATCH_SIZE * 2, num_workers = 12)"
   ]
  },
  {
   "cell_type": "code",
   "execution_count": 52,
   "metadata": {
    "tags": []
   },
   "outputs": [],
   "source": [
    "# placeholders\n",
    "#psum    = torch.tensor([0.0, 0.0, 0.0])\n",
    "#psum_sq = torch.tensor([0.0, 0.0, 0.0])\n",
    "\n",
    "# loop through images\n",
    "#for inputs, mask, target in tqdm(train_loader):\n",
    "#    psum    += inputs.sum(axis        = [0, 2, 3])\n",
    "#    psum_sq += (inputs ** 2).sum(axis = [0, 2, 3])"
   ]
  },
  {
   "cell_type": "code",
   "execution_count": 53,
   "metadata": {},
   "outputs": [],
   "source": [
    "# pixel count\n",
    "#count = len(train_dataset) * _C.IMAGE_H * _C.IMAGE_W\n",
    "\n",
    "# mean and std\n",
    "#total_mean = psum / count\n",
    "#total_var  = (psum_sq / count) - (total_mean ** 2)\n",
    "#total_std  = torch.sqrt(total_var)\n",
    "\n",
    "# output\n",
    "#print('mean: '  + str(total_mean))\n",
    "#print('std:  '  + str(total_std))"
   ]
  },
  {
   "cell_type": "code",
   "execution_count": 54,
   "metadata": {
    "colab": {
     "base_uri": "https://localhost:8080/"
    },
    "executionInfo": {
     "elapsed": 221,
     "status": "ok",
     "timestamp": 1682881133889,
     "user": {
      "displayName": "Алексей Березкин",
      "userId": "11071551650684630592"
     },
     "user_tz": -180
    },
    "id": "70M3GNU4WTOj",
    "outputId": "fb89c0a8-298a-4c53-b27f-4f48379575e6"
   },
   "outputs": [
    {
     "data": {
      "text/plain": [
       "(0, 0)"
      ]
     },
     "execution_count": 54,
     "metadata": {},
     "output_type": "execute_result"
    }
   ],
   "source": [
    "r = torch.cuda.memory_reserved(0)\n",
    "a = torch.cuda.memory_allocated(0)\n",
    "r, a"
   ]
  },
  {
   "cell_type": "code",
   "execution_count": 56,
   "metadata": {
    "colab": {
     "base_uri": "https://localhost:8080/",
     "height": 653
    },
    "executionInfo": {
     "elapsed": 28681,
     "status": "ok",
     "timestamp": 1682881162946,
     "user": {
      "displayName": "Алексей Березкин",
      "userId": "11071551650684630592"
     },
     "user_tz": -180
    },
    "id": "4CHFlua8Rft5",
    "outputId": "a90f06e7-3e3a-48ca-f19c-bb6c1f347b4d"
   },
   "outputs": [
    {
     "name": "stderr",
     "output_type": "stream",
     "text": [
      "Clipping input data to the valid range for imshow with RGB data ([0..1] for floats or [0..255] for integers).\n"
     ]
    },
    {
     "data": {
      "image/png": "[encoded data removed]",
      "text/plain": [
       "<Figure size 800x800 with 1 Axes>"
      ]
     },
     "metadata": {},
     "output_type": "display_data"
    }
   ],
   "source": [
    "def show_batch(dl, nmax=16):\n",
    "    for images, masks, labels in dl:\n",
    "        fig, ax = plt.subplots(figsize=(8, 8))\n",
    "        ax.set_xticks([]); ax.set_yticks([])\n",
    "        ax.imshow(make_grid(images[:nmax], nrow=4).permute(1, 2, 0))\n",
    "        break\n",
    "\n",
    "show_batch(train_loader)"
   ]
  },
  {
   "cell_type": "code",
   "execution_count": 57,
   "metadata": {
    "executionInfo": {
     "elapsed": 325,
     "status": "ok",
     "timestamp": 1682881165908,
     "user": {
      "displayName": "Алексей Березкин",
      "userId": "11071551650684630592"
     },
     "user_tz": -180
    },
    "id": "JmJlIO6zRhgJ"
   },
   "outputs": [],
   "source": [
    "def F_score(output, label, threshold=0.5, beta=1):\n",
    "    prob = output > threshold\n",
    "    label = label > threshold\n",
    "\n",
    "    TP = (prob & label).sum(1).float()\n",
    "    TN = ((~prob) & (~label)).sum(1).float()\n",
    "    FP = (prob & (~label)).sum(1).float()\n",
    "    FN = ((~prob) & label).sum(1).float()\n",
    "\n",
    "    precision = torch.mean(TP / (TP + FP + 1e-12))\n",
    "    recall = torch.mean(TP / (TP + FN + 1e-12))\n",
    "    F2 = (1 + beta**2) * precision * recall / (beta**2 * precision + recall + 1e-12)\n",
    "    return F2.mean(0)"
   ]
  },
  {
   "cell_type": "code",
   "execution_count": 58,
   "metadata": {},
   "outputs": [],
   "source": [
    "def F_scores(output, label, threshold=0.5, beta=1):\n",
    "    prob = output > threshold\n",
    "    label = label > threshold\n",
    "    TP, TN, FP, FN = [], [], [], []\n",
    "    precision, recall, F2 = [], [], []\n",
    "    for i in range(4):\n",
    "        TP.append((prob[:,i] & label[:,i]).sum(0).float())\n",
    "        TN.append(((~prob[:,i]) & (~label[:,i])).sum(0).float())\n",
    "        FP.append((prob[:,i] & (~label[:,i])).sum(0).float())\n",
    "        FN.append(((~prob[:,i]) & label[:,i]).sum(0).float())\n",
    "    for i in range(4):\n",
    "        precision.append(torch.mean(TP[i] / (TP[i] + FP[i] + 1e-12)))\n",
    "        recall.append(torch.mean(TP[i] / (TP[i] + FN[i] + 1e-12)))\n",
    "        F2_sus = (1 + beta**2) * precision[i] * recall[i] / (beta**2 * precision[i] + recall[i] + 1e-12)\n",
    "        F2.append(F2_sus.mean())\n",
    "    return F2"
   ]
  },
  {
   "cell_type": "code",
   "execution_count": 69,
   "metadata": {},
   "outputs": [],
   "source": [
    "def TFPN(output, label, threshold=0.5, beta=1):\n",
    "    prob = output > threshold\n",
    "    label = label > threshold\n",
    "    TP, TN, FP, FN = [], [], [], []\n",
    "    for i in range(4):\n",
    "        TP.append((prob[:,i] & label[:,i]).sum(0).float())\n",
    "        TN.append(((~prob[:,i]) & (~label[:,i])).sum(0).float())\n",
    "        FP.append((prob[:,i] & (~label[:,i])).sum(0).float())\n",
    "        FN.append(((~prob[:,i]) & label[:,i]).sum(0).float())\n",
    "    return TP, TN, FP, FN\n",
    "def calc_metrics(TP, TN, FP, FN, beta=1):\n",
    "    precision = TP / (TP + FP + 1e-12)\n",
    "    recall = TP / (TP + FN + 1e-12)\n",
    "    F2 = (1 + beta**2) * precision * recall / (beta**2 * precision + recall + 1e-12)\n",
    "    return precision, recall, F2"
   ]
  },
  {
   "cell_type": "code",
   "execution_count": 70,
   "metadata": {},
   "outputs": [
    {
     "name": "stdout",
     "output_type": "stream",
     "text": [
      "(tensor(0.3333), tensor(1.), tensor(0.5000))\n"
     ]
    }
   ],
   "source": [
    "images, masks, targets = next(iter(val_loader))\n",
    "targets = torch.Tensor([[1., 1., 1., 1.],\n",
    "        [1., 1., 1., 0.],\n",
    "        [0., 1., 0., 0.],\n",
    "        [0., 1., 0., 0.],\n",
    "        [0., 0., 0., 0.],\n",
    "        [0., 0., 0., 0.],\n",
    "        [0., 0., 0., 0.],\n",
    "        [0., 0., 0., 0.]])\n",
    "preds = torch.Tensor([[1., 1., 1., 1.],\n",
    "        [1., 1., 1., 0.],\n",
    "        [1., 1., 0., 0.],\n",
    "        [1., 1., 0., 0.],\n",
    "        [1., 0., 0., 0.],\n",
    "        [1., 0., 0., 0.],\n",
    "        [0., 0., 0., 0.],\n",
    "        [0., 0., 0., 0.]])\n",
    "TP, TN, FP, FN = TFPN(preds, targets)\n",
    "print(calc_metrics(TP[0], TN[0], FP[0], FN[0]))"
   ]
  },
  {
   "cell_type": "code",
   "execution_count": 71,
   "metadata": {},
   "outputs": [],
   "source": [
    "def BCE_custom(preds, targets, masks):\n",
    "    losses = F.binary_cross_entropy(preds, targets, reduction='none')\n",
    "    for i, mask in enumerate(masks):\n",
    "        for j, val in enumerate(mask):\n",
    "            if val == 0:\n",
    "                losses[i][j] == 0\n",
    "    return losses.mean()"
   ]
  },
  {
   "cell_type": "code",
   "execution_count": 81,
   "metadata": {
    "executionInfo": {
     "elapsed": 383,
     "status": "ok",
     "timestamp": 1682881167276,
     "user": {
      "displayName": "Алексей Березкин",
      "userId": "11071551650684630592"
     },
     "user_tz": -180
    },
    "id": "ZWccwtSrRp9S"
   },
   "outputs": [],
   "source": [
    "class MultilabelImageClassificationBase(nn.Module):\n",
    "    def training_step(self, batch):\n",
    "        images, masks, targets = batch \n",
    "        out = self(images)                            # Generate predictions\n",
    "        loss = BCE_custom(out, targets, masks)   # Calculate loss\n",
    "        del images\n",
    "        del masks\n",
    "        del targets\n",
    "        del out\n",
    "        torch.cuda.empty_cache()\n",
    "        return loss    \n",
    "        \n",
    "    @torch.inference_mode()\n",
    "    def validation_step(self, batch):\n",
    "        images, masks, targets = batch\n",
    "        out = self(images)                           # Generate predictions\n",
    "        loss = BCE_custom(out, targets, masks)              # Calculate loss\n",
    "        score = F_score(out, targets)                # Calculate accuracy\n",
    "        indiv_scores = F_scores(out, targets)\n",
    "        TP, TN, FP, FN = TFPN(out, targets)\n",
    "        del images\n",
    "        del masks\n",
    "        del targets\n",
    "        del out\n",
    "        torch.cuda.empty_cache()\n",
    "        return {'val_loss': loss.detach(), \n",
    "                'val_score': score.detach(), \n",
    "                'val_score_blur': indiv_scores[0].detach(), \n",
    "                'val_score_demoir': indiv_scores[1].detach(), \n",
    "                'val_score_haze': indiv_scores[2].detach(), \n",
    "                'val_score_rain': indiv_scores[3].detach(),\n",
    "                'TP_blur': TP[0].detach(),\n",
    "                'TP_demoir': TP[1].detach(),\n",
    "                'TP_haze': TP[2].detach(),\n",
    "                'TP_rain': TP[3].detach(),\n",
    "                'FP_blur': FP[0].detach(),\n",
    "                'FP_demoir': FP[1].detach(),\n",
    "                'FP_haze': FP[2].detach(),\n",
    "                'FP_rain': FP[3].detach(),\n",
    "                'TN_blur': TN[0].detach(),\n",
    "                'TN_demoir': TN[1].detach(),\n",
    "                'TN_haze': TN[2].detach(),\n",
    "                'TN_rain': TN[3].detach(),\n",
    "                'FN_blur': FN[0].detach(),\n",
    "                'FN_demoir': FN[1].detach(),\n",
    "                'FN_haze': FN[2].detach(),\n",
    "                'FN_rain': FN[3].detach()} \n",
    "    \n",
    "\n",
    "    def validation_epoch_end(self, outputs):\n",
    "        batch_losses = [x['val_loss'] for x in outputs]\n",
    "        epoch_loss = torch.stack(batch_losses).mean()       # Combine losses and get the mean value\n",
    "        batch_scores = [x['val_score'] for x in outputs]    \n",
    "        epoch_score = torch.stack(batch_scores).mean()      # Combine accuracies and get the mean value\n",
    "        batch_scores_blur = [x['val_score_blur'] for x in outputs]    \n",
    "        epoch_score_blur = torch.stack(batch_scores_blur).mean()      # exclusive for blur\n",
    "        batch_scores_demoir = [x['val_score_demoir'] for x in outputs]    \n",
    "        epoch_score_demoir = torch.stack(batch_scores_demoir).mean()      # exclusive for moire\n",
    "        batch_scores_haze = [x['val_score_haze'] for x in outputs]    \n",
    "        epoch_score_haze = torch.stack(batch_scores_haze).mean()      # exclusive for haze\n",
    "        batch_scores_rain = [x['val_score_rain'] for x in outputs]    \n",
    "        epoch_score_rain = torch.stack(batch_scores_rain).mean()      # exclusive for rain\n",
    "        \n",
    "        TP_blur = float(sum([x['TP_blur'] for x in outputs]))\n",
    "        FP_blur = float(sum([x['FP_blur'] for x in outputs]))\n",
    "        TN_blur = float(sum([x['TN_blur'] for x in outputs]))\n",
    "        FN_blur = float(sum([x['FN_blur'] for x in outputs]))\n",
    "        \n",
    "        TP_demoir = float(sum([x['TP_demoir'] for x in outputs]))\n",
    "        FP_demoir = float(sum([x['FP_demoir'] for x in outputs]))\n",
    "        TN_demoir = float(sum([x['TN_demoir'] for x in outputs]))\n",
    "        FN_demoir = float(sum([x['FN_demoir'] for x in outputs]))\n",
    "        \n",
    "        TP_haze = float(sum([x['TP_haze'] for x in outputs]))\n",
    "        FP_haze = float(sum([x['FP_haze'] for x in outputs]))\n",
    "        TN_haze = float(sum([x['TN_haze'] for x in outputs]))\n",
    "        FN_haze = float(sum([x['FN_haze'] for x in outputs]))\n",
    "        \n",
    "        TP_rain = float(sum([x['TP_rain'] for x in outputs]))\n",
    "        FP_rain = float(sum([x['FP_rain'] for x in outputs]))\n",
    "        TN_rain = float(sum([x['TN_rain'] for x in outputs]))\n",
    "        FN_rain = float(sum([x['FN_rain'] for x in outputs]))\n",
    "        \n",
    "        TP_total = TP_blur + TP_haze + TP_demoir + TP_rain\n",
    "        FP_total = FP_blur + FP_haze + FP_demoir + FP_rain\n",
    "        TN_total = TN_blur + TN_haze + TN_demoir + TN_rain\n",
    "        FN_total = FN_blur + FN_haze + FN_demoir + FN_rain\n",
    "        \n",
    "        prec_blur, rec_blur, f2_blur = calc_metrics(TP_blur, TN_blur, FP_blur, FN_blur)\n",
    "        prec_demoir, rec_demoir, f2_demoir = calc_metrics(TP_demoir, TN_demoir, FP_demoir, FN_demoir)\n",
    "        prec_haze, rec_haze, f2_haze = calc_metrics(TP_haze, TN_haze, FP_haze, FN_haze)\n",
    "        prec_rain, rec_rain, f2_rain = calc_metrics(TP_rain, TN_rain, FP_rain, FN_rain)\n",
    "        prec_total, rec_total, f2_total = calc_metrics(TP_total, TN_total, FP_total, FN_total)\n",
    "        \n",
    "        print(\"blur\")\n",
    "        print(f'prec {prec_blur}, rec {rec_blur}, f2 {f2_blur}')\n",
    "        print(\"demoir\")\n",
    "        print(f'prec {prec_demoir}, rec {rec_demoir}, f2 {f2_demoir}')\n",
    "        print(\"haze\")\n",
    "        print(f'prec {prec_haze}, rec {rec_haze}, f2 {f2_haze}')\n",
    "        print(\"rain\")\n",
    "        print(f'prec {prec_rain}, rec {rec_rain}, f2 {f2_rain}')\n",
    "        return {'val_loss': epoch_loss.item(), \n",
    "                'val_score': f2_total, \n",
    "                'val_score_blur': f2_blur, \n",
    "                'val_score_haze': f2_haze, \n",
    "                'val_score_rain': f2_rain, \n",
    "                'val_score_demoir': f2_demoir}    \n",
    "\n",
    "    def epoch_end(self, epoch, result):\n",
    "        print(\"Epoch [{}], last_lr: {:.4f}, train_loss: {:.4f}, val_loss: {:.4f}, val_score: {:.4f}, val_score_blur: {:.4f}, val_score_demoir: {:.4f}, val_score_haze: {:.4f}, val_score_rain: {:.4f}\".format(epoch, result['lrs'][-1], result['train_loss'], result['val_loss'], result['val_score'], result['val_score_blur'], result['val_score_demoir'], result['val_score_haze'], result['val_score_rain']))"
   ]
  },
  {
   "cell_type": "code",
   "execution_count": 82,
   "metadata": {
    "colab": {
     "base_uri": "https://localhost:8080/"
    },
    "executionInfo": {
     "elapsed": 3,
     "status": "ok",
     "timestamp": 1682881167619,
     "user": {
      "displayName": "Алексей Березкин",
      "userId": "11071551650684630592"
     },
     "user_tz": -180
    },
    "id": "1t9wgEb9RvEO",
    "outputId": "4a7f8f97-9fc5-4191-a986-06c1ba1898b3"
   },
   "outputs": [
    {
     "data": {
      "text/plain": [
       "device(type='cuda')"
      ]
     },
     "execution_count": 82,
     "metadata": {},
     "output_type": "execute_result"
    }
   ],
   "source": [
    "def get_default_device():\n",
    "    \"\"\"Pick GPU if available, else CPU\"\"\"\n",
    "    if torch.cuda.is_available():\n",
    "        return torch.device('cuda')\n",
    "    else:\n",
    "        return torch.device('cpu')  \n",
    "\n",
    "\n",
    "def to_device(data, device):\n",
    "    \"\"\"Move tensor(s) to chosen device\"\"\"\n",
    "    if isinstance(data, (list,tuple)):\n",
    "        return [to_device(x, device) for x in data]\n",
    "    return data.to(device, non_blocking=True)\n",
    "\n",
    "class DeviceDataLoader():  \n",
    "    \"\"\"Wrap a dataloader to move data to a device\"\"\"\n",
    "    def __init__(self, dl, device):\n",
    "        self.dl = dl\n",
    "        self.device = device       \n",
    "\n",
    "    def __iter__(self):\n",
    "        \"\"\"Yield a batch of data after moving it to device\"\"\"\n",
    "        for b in self.dl: \n",
    "            yield to_device(b, self.device)\n",
    "\n",
    "    def __len__(self):\n",
    "        \"\"\"Number of batches\"\"\"\n",
    "        return len(self.dl)\n",
    "\n",
    "device = get_default_device()\n",
    "device"
   ]
  },
  {
   "cell_type": "code",
   "execution_count": 83,
   "metadata": {
    "executionInfo": {
     "elapsed": 205,
     "status": "ok",
     "timestamp": 1682881171661,
     "user": {
      "displayName": "Алексей Березкин",
      "userId": "11071551650684630592"
     },
     "user_tz": -180
    },
    "id": "DWSUB9XHRxtG"
   },
   "outputs": [],
   "source": [
    "#loading training and validation data onto GPU\n",
    "train_dl = DeviceDataLoader(train_loader, device)\n",
    "val_dl = DeviceDataLoader(val_loader, device)"
   ]
  },
  {
   "cell_type": "code",
   "execution_count": 84,
   "metadata": {
    "colab": {
     "base_uri": "https://localhost:8080/"
    },
    "executionInfo": {
     "elapsed": 25354,
     "status": "ok",
     "timestamp": 1682881198723,
     "user": {
      "displayName": "Алексей Березкин",
      "userId": "11071551650684630592"
     },
     "user_tz": -180
    },
    "id": "XKhrVwHpSuGC",
    "outputId": "02f7a4ac-9600-411f-d2ad-188d3d165abe"
   },
   "outputs": [
    {
     "name": "stdout",
     "output_type": "stream",
     "text": [
      "torch.Size([4, 3, 500, 500])\n",
      "torch.Size([4, 4])\n",
      "torch.Size([4, 4])\n"
     ]
    }
   ],
   "source": [
    "# checking up the shapes of the datas\n",
    "for xb, masks, yb in train_dl:\n",
    "  print(xb.shape)\n",
    "  print(masks.shape)\n",
    "  print(yb.shape)\n",
    "  del xb\n",
    "  del yb\n",
    "  torch.cuda.empty_cache()\n",
    "  break"
   ]
  },
  {
   "cell_type": "code",
   "execution_count": 85,
   "metadata": {
    "executionInfo": {
     "elapsed": 989,
     "status": "ok",
     "timestamp": 1682881214745,
     "user": {
      "displayName": "Алексей Березкин",
      "userId": "11071551650684630592"
     },
     "user_tz": -180
    },
    "id": "etCngteDSwOJ"
   },
   "outputs": [],
   "source": [
    "from tqdm.notebook import tqdm\n",
    "\n",
    "def save_model(model):\n",
    "    PATH = os.path.join('saved_models', datetime.now().strftime('%d-%m-%y-%H_%M_dqnweights.pt'))\n",
    "    torch.save(model.state_dict(), PATH)\n",
    "\n",
    "def load_model(path):\n",
    "    loaded_model = CustomModel().to(device)\n",
    "    loaded_model.load_state_dict(torch.load('saved_models/08-05-23-02_49_dqnweights.pt'))\n",
    "    loaded_model.eval()\n",
    "    return loaded_model\n",
    "\n",
    "@torch.inference_mode()\n",
    "def evaluate(model, val_loader):\n",
    "    model.eval()\n",
    "    outputs = [model.validation_step(batch) for batch in tqdm(val_loader)]\n",
    "    return model.validation_epoch_end(outputs)\n",
    "\n",
    "\n",
    "def fit(epochs, lr, model, train_loader, val_loader, opt_func=torch.optim.SGD):\n",
    "    history = []\n",
    "    optimizer = opt_func(model.parameters(), lr)\n",
    "    for epoch in range(epochs):\n",
    "        # Training Phase\n",
    "        model.train()\n",
    "        train_losses = []\n",
    "        for batch in tqdm(train_loader):\n",
    "            loss = model.training_step(batch)\n",
    "            train_losses.append(loss)\n",
    "            loss.backward()\n",
    "            optimizer.step()\n",
    "            optimizer.zero_grad()\n",
    "        # Validation phase\n",
    "        result = evaluate(model, val_loader)\n",
    "        result['train_loss'] = torch.stack(train_losses).mean().item()\n",
    "        model.epoch_end(epoch, result)\n",
    "        history.append(result)\n",
    "    return history\n",
    "\n",
    "\n",
    "def get_lr(optimizer):\n",
    "    for param_group in optimizer.param_groups:\n",
    "        return param_group['lr']\n",
    "\n",
    "def fit_one_cycle(epochs, max_lr, model, train_loader, val_loader, weight_decay=0, grad_clip=None, opt_func=torch.optim.SGD):\n",
    "    torch.cuda.empty_cache()\n",
    "    history = []\n",
    "\n",
    "    # Set up custom optimizer with weight decay\n",
    "    optimizer = opt_func(model.parameters(), max_lr, weight_decay=weight_decay)\n",
    "    # Set up one-cycle learning rate scheduler\n",
    "    sched = torch.optim.lr_scheduler.OneCycleLR(optimizer, max_lr, epochs=epochs, steps_per_epoch=len(train_loader)) #schedule the learning rate with OneCycleLR\n",
    "    \n",
    "    for epoch in range(epochs):\n",
    "        # Training Phase\n",
    "        model.train()\n",
    "        train_losses = []\n",
    "        lrs = []\n",
    "        for batch in tqdm(train_loader):\n",
    "            loss = model.training_step(batch)\n",
    "            train_losses.append(loss)\n",
    "            loss.backward()\n",
    "\n",
    "            # Gradient clipping\n",
    "            if grad_clip:\n",
    "                nn.utils.clip_grad_value_(model.parameters(), grad_clip)\n",
    "\n",
    "            optimizer.step()\n",
    "            optimizer.zero_grad()\n",
    "\n",
    "            # Record & update learning rate\n",
    "            lrs.append(get_lr(optimizer))\n",
    "            sched.step()\n",
    "        \n",
    "        # Validation phase\n",
    "        result = evaluate(model, val_loader)\n",
    "        result['train_loss'] = torch.stack(train_losses).mean().item()\n",
    "        result['lrs'] = lrs\n",
    "        model.epoch_end(epoch, result)\n",
    "        history.append(result)\n",
    "    return history"
   ]
  },
  {
   "cell_type": "code",
   "execution_count": 86,
   "metadata": {
    "executionInfo": {
     "elapsed": 312,
     "status": "ok",
     "timestamp": 1682881216008,
     "user": {
      "displayName": "Алексей Березкин",
      "userId": "11071551650684630592"
     },
     "user_tz": -180
    },
    "id": "ovaxcZOsS1pe"
   },
   "outputs": [],
   "source": [
    "def conv_block(in_channels, out_channels, pool=False):\n",
    "    layers = [nn.Conv2d(in_channels, out_channels, kernel_size=3, padding=1), \n",
    "              nn.BatchNorm2d(out_channels), \n",
    "              nn.ReLU(inplace=True)]\n",
    "\n",
    "    if pool: layers.append(nn.MaxPool2d(4))\n",
    "    return nn.Sequential(*layers)\n",
    "\n",
    "\n",
    "class ResNet15(MultilabelImageClassificationBase):\n",
    "    def __init__(self, in_channels, num_classes):\n",
    "        super().__init__()     \n",
    "        #input 3 x 500 x 500\n",
    "        self.conv1 = conv_block(in_channels, 64)  #output 64 x 500 x 500\n",
    "        self.res1 = nn.Sequential(conv_block(64, 64), conv_block(64, 64)) #output 64 x 500 x 500\n",
    "\n",
    "\n",
    "        self.conv2 = conv_block(64, 128, pool=True) #output 128 x 120 x 120\n",
    "        self.res2 = nn.Sequential(conv_block(128, 128), conv_block(128, 128), conv_block(128, 128))  #output 128 x 120 x 120  \n",
    "\n",
    "\n",
    "        self.conv3 = conv_block(128, 512, pool=True) #output 512 x 30 x 30\n",
    "        self.res3 = nn.Sequential(conv_block(512, 512), conv_block(512, 512)) #output 512 x 30 x 30\n",
    "\n",
    "\n",
    "        self.conv4 = conv_block(512, 1024, pool=True) #output 1024 x 7 x 7\n",
    "        self.res4 = nn.Sequential(conv_block(1024, 1024), conv_block(1024, 1024)) #output 1024 x 7 x 7\n",
    "\n",
    "\n",
    "        self.classifier = nn.Sequential(nn.MaxPool2d(7), #output 1024 x 1 x 1\n",
    "                                        nn.Flatten(), \n",
    "                                        nn.Dropout(0.2),\n",
    "                                        nn.Linear(1024 * 1 * 1, 512), #output 512\n",
    "                                        nn.ReLU(),\n",
    "                                        nn.Linear(512, num_classes)) #output 4    \n",
    "\n",
    "    def forward(self, xb):\n",
    "        out = self.conv1(xb)\n",
    "        out = self.res1(out) + out\n",
    "        out = self.conv2(out)\n",
    "        out = self.res2(out) + out\n",
    "        out = self.conv3(out)\n",
    "        out = self.res3(out) + out\n",
    "        out = self.conv4(out)\n",
    "        out = self.res4(out) + out\n",
    "        out = self.classifier(out)\n",
    "        out = torch.sigmoid(out)\n",
    "        return out"
   ]
  },
  {
   "cell_type": "markdown",
   "metadata": {},
   "source": [
    "Model number 2: Mobilenet v2 from torchhub\n",
    "model = torch.hub.load('pytorch/vision:v0.10.0', 'mobilenet_v2', pretrained=True)"
   ]
  },
  {
   "cell_type": "code",
   "execution_count": 87,
   "metadata": {},
   "outputs": [],
   "source": [
    "class CustomModel(MultilabelImageClassificationBase):\n",
    "    def __init__(self):\n",
    "        super().__init__()\n",
    "        self.model = torch.hub.load('pytorch/vision:v0.10.0', 'mobilenet_v2', weights=None)\n",
    "        self.model.classifier = nn.Sequential(\n",
    "          nn.Linear(1280, 512),\n",
    "          nn.Dropout(0.2),\n",
    "          nn.ReLU(),\n",
    "          nn.Linear(512, 256),\n",
    "          nn.Dropout(0.3),\n",
    "          nn.ReLU(),\n",
    "          nn.Linear(256, 64),\n",
    "          nn.Dropout(0.3),\n",
    "          nn.ReLU(),\n",
    "          nn.Linear(64, 4)\n",
    "        )\n",
    "        \n",
    "    def freeze_model(self):\n",
    "        for param in self.model.parameters():\n",
    "            param.requires_grad = False\n",
    "    def unfreeze_for_train(self):\n",
    "        for param in self.model.classifier.parameters():\n",
    "            param.requires_grad = True\n",
    "    def forward(self, xb):\n",
    "        out = self.model(xb)\n",
    "        out = torch.sigmoid(out)\n",
    "        return out"
   ]
  },
  {
   "cell_type": "code",
   "execution_count": 88,
   "metadata": {},
   "outputs": [
    {
     "name": "stderr",
     "output_type": "stream",
     "text": [
      "Using cache found in /home/berezerker/.cache/torch/hub/pytorch_vision_v0.10.0\n"
     ]
    },
    {
     "data": {
      "text/plain": [
       "3027780"
      ]
     },
     "execution_count": 88,
     "metadata": {},
     "output_type": "execute_result"
    }
   ],
   "source": [
    "model = CustomModel().to(device)\n",
    "model_parameters = filter(lambda p: p.requires_grad, model.parameters())\n",
    "params = sum([np.prod(p.size()) for p in model_parameters])\n",
    "params"
   ]
  },
  {
   "cell_type": "code",
   "execution_count": 89,
   "metadata": {
    "colab": {
     "base_uri": "https://localhost:8080/"
    },
    "executionInfo": {
     "elapsed": 23534,
     "status": "ok",
     "timestamp": 1682881246622,
     "user": {
      "displayName": "Алексей Березкин",
      "userId": "11071551650684630592"
     },
     "user_tz": -180
    },
    "id": "3IiBqGgtS6Ky",
    "outputId": "755ea077-0ac5-4da0-f665-e4fe298cba63"
   },
   "outputs": [
    {
     "name": "stdout",
     "output_type": "stream",
     "text": [
      "torch.Size([4, 3, 500, 500])\n",
      "outputs.shape :  torch.Size([4, 4])\n",
      "Sample outputs :\n",
      " tensor([[0.4973, 0.5110, 0.4766, 0.4895],\n",
      "        [0.5120, 0.5103, 0.4909, 0.4975]], device='cuda:0')\n"
     ]
    }
   ],
   "source": [
    "#checking the shape of outputs that the model will produce before starting the training process\n",
    "for images, masks, labels in train_dl:\n",
    "    print(images.shape)\n",
    "    outputs = model(images)\n",
    "    del images\n",
    "    break\n",
    "\n",
    "print('outputs.shape : ', outputs.shape)\n",
    "print('Sample outputs :\\n', outputs[:2].data)\n",
    "del outputs"
   ]
  },
  {
   "cell_type": "code",
   "execution_count": 90,
   "metadata": {},
   "outputs": [
    {
     "data": {
      "text/plain": [
       "(1688207360, 12330496)"
      ]
     },
     "execution_count": 90,
     "metadata": {},
     "output_type": "execute_result"
    }
   ],
   "source": [
    "r = torch.cuda.memory_reserved(0)\n",
    "a = torch.cuda.memory_allocated(0)\n",
    "r, a"
   ]
  },
  {
   "cell_type": "code",
   "execution_count": 91,
   "metadata": {
    "executionInfo": {
     "elapsed": 4,
     "status": "ok",
     "timestamp": 1682881246622,
     "user": {
      "displayName": "Алексей Березкин",
      "userId": "11071551650684630592"
     },
     "user_tz": -180
    },
    "id": "qSqzBzHITBY0"
   },
   "outputs": [],
   "source": [
    "epochs = 10\n",
    "max_lr = 0.001\n",
    "grad_clip = 0.9\n",
    "weight_decay = 1e-4\n",
    "opt_func = torch.optim.Adam"
   ]
  },
  {
   "cell_type": "code",
   "execution_count": 92,
   "metadata": {
    "colab": {
     "base_uri": "https://localhost:8080/",
     "height": 67,
     "referenced_widgets": [
      "5a2e9785f3c44983b538d5357941b556",
      "528c11ac66ae48ee986ed8ce95706900",
      "7de23c42173b4313b7740255255e600d",
      "f9bbc609aac04087bb050155950c1380",
      "549299e9122b4331ba8d33a3153ed32b",
      "5e093f2d6416433ca9b05d55fe931cea",
      "2792664588294039b03c605d0c6793e4",
      "44377bf23247413ead447c75872d350b",
      "ae2166a86fe0405698898184f96c1644",
      "6513d557687b4a7e94fa7a45e900d78f",
      "48ebdd627a5f4aed83581347dca942b1"
     ]
    },
    "executionInfo": {
     "elapsed": 143761,
     "status": "ok",
     "timestamp": 1682881392876,
     "user": {
      "displayName": "Алексей Березкин",
      "userId": "11071551650684630592"
     },
     "user_tz": -180
    },
    "id": "x-OzwwZQTpcN",
    "outputId": "54f6ba3f-12d5-4a6f-dccc-efbaa8ecd403",
    "tags": []
   },
   "outputs": [
    {
     "data": {
      "application/vnd.jupyter.widget-view+json": {
       "model_id": "e5cbcc3c9a2c4120bd8f44672d091653",
       "version_major": 2,
       "version_minor": 0
      },
      "text/plain": [
       "  0%|          | 0/954 [00:00<?, ?it/s]"
      ]
     },
     "metadata": {},
     "output_type": "display_data"
    },
    {
     "name": "stdout",
     "output_type": "stream",
     "text": [
      "blur\n",
      "prec 0.2679250229387862, rec 0.9999999999999996, f2 0.42261966297909387\n",
      "demoir\n",
      "prec 0.1966181675186787, rec 0.9999999999999994, f2 0.3286230693391929\n",
      "haze\n",
      "prec 0.0, rec 0.0, f2 0.0\n",
      "rain\n",
      "prec 0.0, rec 0.0, f2 0.0\n"
     ]
    },
    {
     "data": {
      "text/plain": [
       "[{'val_loss': 0.6914138793945312,\n",
       "  'val_score': 0.30969546030453216,\n",
       "  'val_score_blur': 0.42261966297909387,\n",
       "  'val_score_haze': 0.0,\n",
       "  'val_score_rain': 0.0,\n",
       "  'val_score_demoir': 0.3286230693391929}]"
      ]
     },
     "execution_count": 92,
     "metadata": {},
     "output_type": "execute_result"
    }
   ],
   "source": [
    "history = [evaluate(model, val_dl)]\n",
    "history"
   ]
  },
  {
   "cell_type": "code",
   "execution_count": 93,
   "metadata": {
    "colab": {
     "base_uri": "https://localhost:8080/",
     "height": 151,
     "referenced_widgets": [
      "ceafbcce4b5a463a99bb14f9c611c0bd",
      "0f58b1b8af894fa0990cc39d4f0eb2c8",
      "08e70ae7b5fb408690fe9b27f96450c8",
      "117e6bc1ddda4eceb946a67fd0c8c2a7",
      "7ea0a1f60efe40eaac8a10762d49db31",
      "80aa9a060efe40659f88d7e673a7e0b6",
      "84a566e98f5a4cc3b39efacea2640153",
      "85e55bcdbc20490c817a829e1fa12839",
      "31442031502d45f192681a21c2af3b47",
      "3efe51d805d941eba6d26a70abf92e4a",
      "b9ae477e3e4e468897b32e818b830ea9",
      "9dfbeaf990c7479a9f943867a561b579",
      "0668b90437084ace88679c19924231bb",
      "49cd8478dd4b4a71b2e3117f695a9970",
      "ed1efd6ebd0440f38c160855cfa78314",
      "fd801bf87fa440ca88dcf88e33a8b992",
      "94e36ab86a8e46c6b2509dec1218ab6d",
      "dc366bfed5024076b9200ca158058867",
      "488d2c3b99f643fdb364d44f11ed6d32",
      "dbcf288cfa5344c3bc3c35c87dd22108",
      "a3341d8352da4010989392fc4b059c05",
      "a6a02e4f05744c38b1cc24ebc6c24aaa",
      "b277c4c9a31147179f3ceea25dfe339f",
      "64d7f495008b4e598eb95089a8c5940d",
      "5273a84f657f4e6ebd034591ab36025e",
      "8e120dcbafac4125a21fc88b35bcde4e",
      "9a286584baaf40469d6d9e057f3b8555",
      "9abb6dfde55841b695eff4c1f891e5c1",
      "19f3449c655b49cea74723240eddf5e5",
      "bd8850b98cc8417fad91759a8afd0662",
      "6a3e079a006145419823dc673e6f2156",
      "6f533daa467249e584e02da4dcec0198",
      "1398ff9b39b845698e41344cc7d676c8"
     ]
    },
    "id": "ja2FR3A9TSMu",
    "outputId": "9bba6a6a-ea33-4265-e85e-3debd125b049",
    "tags": []
   },
   "outputs": [
    {
     "data": {
      "application/vnd.jupyter.widget-view+json": {
       "model_id": "6bd7ce90e24b4282a5143a650cba646c",
       "version_major": 2,
       "version_minor": 0
      },
      "text/plain": [
       "  0%|          | 0/7554 [00:00<?, ?it/s]"
      ]
     },
     "metadata": {},
     "output_type": "display_data"
    },
    {
     "data": {
      "application/vnd.jupyter.widget-view+json": {
       "model_id": "c5176c1b03774a289c2a9a44b2440205",
       "version_major": 2,
       "version_minor": 0
      },
      "text/plain": [
       "  0%|          | 0/954 [00:00<?, ?it/s]"
      ]
     },
     "metadata": {},
     "output_type": "display_data"
    },
    {
     "name": "stdout",
     "output_type": "stream",
     "text": [
      "blur\n",
      "prec 0.7919863597612955, rec 0.909001956947162, f2 0.8464692482910738\n",
      "demoir\n",
      "prec 0.6838185511171289, rec 0.6733333333333329, f2 0.6785354383602654\n",
      "haze\n",
      "prec 0.6792970895112572, rec 0.7407185628742511, f2 0.7086794614718579\n",
      "rain\n",
      "prec 0.8079222720478321, rec 0.44761904761904747, f2 0.5760724753525918\n",
      "Epoch [0], last_lr: 0.0003, train_loss: 0.4082, val_loss: 0.3556, val_score: 0.7099, val_score_blur: 0.8465, val_score_demoir: 0.6785, val_score_haze: 0.7087, val_score_rain: 0.5761\n"
     ]
    },
    {
     "data": {
      "application/vnd.jupyter.widget-view+json": {
       "model_id": "b4750e2b2e9c4dd695371a07dd79d088",
       "version_major": 2,
       "version_minor": 0
      },
      "text/plain": [
       "  0%|          | 0/7554 [00:00<?, ?it/s]"
      ]
     },
     "metadata": {},
     "output_type": "display_data"
    },
    {
     "data": {
      "application/vnd.jupyter.widget-view+json": {
       "model_id": "7dd7574477a3479a83198128f7f8858e",
       "version_major": 2,
       "version_minor": 0
      },
      "text/plain": [
       "  0%|          | 0/954 [00:00<?, ?it/s]"
      ]
     },
     "metadata": {},
     "output_type": "display_data"
    },
    {
     "name": "stdout",
     "output_type": "stream",
     "text": [
      "blur\n",
      "prec 0.894020130254588, rec 0.7387475538160466, f2 0.8090008036426866\n",
      "demoir\n",
      "prec 0.7842727905358381, rec 0.7513333333333329, f2 0.7674497786852335\n",
      "haze\n",
      "prec 0.9645507007419614, rec 0.7005988023952092, f2 0.8116545265343715\n",
      "rain\n",
      "prec 0.6886626886626884, rec 0.8124223602484469, f2 0.7454407294827857\n",
      "Epoch [1], last_lr: 0.0008, train_loss: 0.3302, val_loss: 0.2959, val_score: 0.7787, val_score_blur: 0.8090, val_score_demoir: 0.7674, val_score_haze: 0.8117, val_score_rain: 0.7454\n"
     ]
    },
    {
     "data": {
      "application/vnd.jupyter.widget-view+json": {
       "model_id": "5cb0e11f0ef34b5a9b7579aca105b25e",
       "version_major": 2,
       "version_minor": 0
      },
      "text/plain": [
       "  0%|          | 0/7554 [00:00<?, ?it/s]"
      ]
     },
     "metadata": {},
     "output_type": "display_data"
    },
    {
     "data": {
      "application/vnd.jupyter.widget-view+json": {
       "model_id": "6c4af4af07824dd88f37d6da2f862737",
       "version_major": 2,
       "version_minor": 0
      },
      "text/plain": [
       "  0%|          | 0/954 [00:00<?, ?it/s]"
      ]
     },
     "metadata": {},
     "output_type": "display_data"
    },
    {
     "name": "stdout",
     "output_type": "stream",
     "text": [
      "blur\n",
      "prec 0.9721398933017185, rec 0.8023483365949116, f2 0.8791208791203832\n",
      "demoir\n",
      "prec 0.6497786522380715, rec 0.8806666666666662, f2 0.7478063968294006\n",
      "haze\n",
      "prec 0.8834668608885646, rec 0.7263473053892212, f2 0.7972395662170527\n",
      "rain\n",
      "prec 0.8328205128205124, rec 0.6724637681159418, f2 0.7441008018322659\n",
      "Epoch [2], last_lr: 0.0010, train_loss: 0.2712, val_loss: 0.2770, val_score: 0.7903, val_score_blur: 0.8791, val_score_demoir: 0.7478, val_score_haze: 0.7972, val_score_rain: 0.7441\n"
     ]
    },
    {
     "data": {
      "application/vnd.jupyter.widget-view+json": {
       "model_id": "9e5c99403d2b455cab198be706ca7565",
       "version_major": 2,
       "version_minor": 0
      },
      "text/plain": [
       "  0%|          | 0/7554 [00:00<?, ?it/s]"
      ]
     },
     "metadata": {},
     "output_type": "display_data"
    },
    {
     "data": {
      "application/vnd.jupyter.widget-view+json": {
       "model_id": "81989919e35b4eefaf5532c10dabbe77",
       "version_major": 2,
       "version_minor": 0
      },
      "text/plain": [
       "  0%|          | 0/954 [00:00<?, ?it/s]"
      ]
     },
     "metadata": {},
     "output_type": "display_data"
    },
    {
     "name": "stdout",
     "output_type": "stream",
     "text": [
      "blur\n",
      "prec 0.9594188376753503, rec 0.9368884540117413, f2 0.9480198019796976\n",
      "demoir\n",
      "prec 0.8933601609657942, rec 0.8879999999999995, f2 0.8906720160476438\n",
      "haze\n",
      "prec 0.9991416309012868, rec 0.6970059880239518, f2 0.8211640211635366\n",
      "rain\n",
      "prec 0.8056358381502887, rec 0.9233954451345753, f2 0.860505498745402\n",
      "Epoch [3], last_lr: 0.0010, train_loss: 0.2131, val_loss: 0.1921, val_score: 0.8826, val_score_blur: 0.9480, val_score_demoir: 0.8907, val_score_haze: 0.8212, val_score_rain: 0.8605\n"
     ]
    },
    {
     "data": {
      "application/vnd.jupyter.widget-view+json": {
       "model_id": "38de04f614194c35bab6e48eb00ff8d2",
       "version_major": 2,
       "version_minor": 0
      },
      "text/plain": [
       "  0%|          | 0/7554 [00:00<?, ?it/s]"
      ]
     },
     "metadata": {},
     "output_type": "display_data"
    },
    {
     "data": {
      "application/vnd.jupyter.widget-view+json": {
       "model_id": "ae4b0d02c51047a3be1f091b544de598",
       "version_major": 2,
       "version_minor": 0
      },
      "text/plain": [
       "  0%|          | 0/954 [00:00<?, ?it/s]"
      ]
     },
     "metadata": {},
     "output_type": "display_data"
    },
    {
     "name": "stdout",
     "output_type": "stream",
     "text": [
      "blur\n",
      "prec 0.9389999999999996, rec 0.9187866927592951, f2 0.9287833827888171\n",
      "demoir\n",
      "prec 0.7459016393442619, rec 0.9099999999999995, f2 0.8198198198193243\n",
      "haze\n",
      "prec 0.9820114472608333, rec 0.7191616766467062, f2 0.8302799861730336\n",
      "rain\n",
      "prec 0.8301727770754316, rec 0.8157349896480328, f2 0.8228905597321645\n",
      "Epoch [4], last_lr: 0.0008, train_loss: 0.1809, val_loss: 0.2439, val_score: 0.8521, val_score_blur: 0.9288, val_score_demoir: 0.8198, val_score_haze: 0.8303, val_score_rain: 0.8229\n"
     ]
    },
    {
     "data": {
      "application/vnd.jupyter.widget-view+json": {
       "model_id": "3ebb334f4ef649be9b5017f74f486f7b",
       "version_major": 2,
       "version_minor": 0
      },
      "text/plain": [
       "  0%|          | 0/7554 [00:00<?, ?it/s]"
      ]
     },
     "metadata": {},
     "output_type": "display_data"
    },
    {
     "data": {
      "application/vnd.jupyter.widget-view+json": {
       "model_id": "2491bd65d666400086a40e97a267011a",
       "version_major": 2,
       "version_minor": 0
      },
      "text/plain": [
       "  0%|          | 0/954 [00:00<?, ?it/s]"
      ]
     },
     "metadata": {},
     "output_type": "display_data"
    },
    {
     "name": "stdout",
     "output_type": "stream",
     "text": [
      "blur\n",
      "prec 0.9887577290612699, rec 0.8605675146771034, f2 0.9202197227303416\n",
      "demoir\n",
      "prec 0.8817663817663812, rec 0.8253333333333328, f2 0.8526170798893071\n",
      "haze\n",
      "prec 0.9942004971002478, rec 0.7185628742514966, f2 0.834202294055821\n",
      "rain\n",
      "prec 0.7695058517555264, rec 0.9801242236024841, f2 0.862138044071625\n",
      "Epoch [5], last_lr: 0.0006, train_loss: 0.1420, val_loss: 0.2494, val_score: 0.8697, val_score_blur: 0.9202, val_score_demoir: 0.8526, val_score_haze: 0.8342, val_score_rain: 0.8621\n"
     ]
    },
    {
     "data": {
      "application/vnd.jupyter.widget-view+json": {
       "model_id": "4624fbf35ab14e2b8611cac77df3311f",
       "version_major": 2,
       "version_minor": 0
      },
      "text/plain": [
       "  0%|          | 0/7554 [00:00<?, ?it/s]"
      ]
     },
     "metadata": {},
     "output_type": "display_data"
    },
    {
     "data": {
      "application/vnd.jupyter.widget-view+json": {
       "model_id": "f67bb9ee58b14abba45d0954ca838a84",
       "version_major": 2,
       "version_minor": 0
      },
      "text/plain": [
       "  0%|          | 0/954 [00:00<?, ?it/s]"
      ]
     },
     "metadata": {},
     "output_type": "display_data"
    },
    {
     "name": "stdout",
     "output_type": "stream",
     "text": [
      "blur\n",
      "prec 0.9666495638789118, rec 0.921722113502935, f2 0.9436513899318814\n",
      "demoir\n",
      "prec 0.9081836327345304, rec 0.9099999999999995, f2 0.9090909090904085\n",
      "haze\n",
      "prec 0.9966638865721427, rec 0.7155688622754487, f2 0.8330428720803773\n",
      "rain\n",
      "prec 0.8025632144094212, rec 0.9594202898550721, f2 0.8740098076192697\n",
      "Epoch [6], last_lr: 0.0004, train_loss: 0.1114, val_loss: 0.2144, val_score: 0.8915, val_score_blur: 0.9437, val_score_demoir: 0.9091, val_score_haze: 0.8330, val_score_rain: 0.8740\n"
     ]
    },
    {
     "data": {
      "application/vnd.jupyter.widget-view+json": {
       "model_id": "fe1c7d1399e24da79daa3eb80da1b89d",
       "version_major": 2,
       "version_minor": 0
      },
      "text/plain": [
       "  0%|          | 0/7554 [00:00<?, ?it/s]"
      ]
     },
     "metadata": {},
     "output_type": "display_data"
    },
    {
     "data": {
      "application/vnd.jupyter.widget-view+json": {
       "model_id": "db66d27177534645b91beabff9166c1d",
       "version_major": 2,
       "version_minor": 0
      },
      "text/plain": [
       "  0%|          | 0/954 [00:00<?, ?it/s]"
      ]
     },
     "metadata": {},
     "output_type": "display_data"
    },
    {
     "name": "stdout",
     "output_type": "stream",
     "text": [
      "blur\n",
      "prec 0.9680319680319676, rec 0.9481409001956943, f2 0.9579831932768105\n",
      "demoir\n",
      "prec 0.9541547277936957, rec 0.8879999999999995, f2 0.919889502761931\n",
      "haze\n",
      "prec 0.9884773662551433, rec 0.7191616766467062, f2 0.8325823223565308\n",
      "rain\n",
      "prec 0.8102493074792241, rec 0.9689440993788816, f2 0.8825193286813818\n",
      "Epoch [7], last_lr: 0.0002, train_loss: 0.0867, val_loss: 0.2441, val_score: 0.9003, val_score_blur: 0.9580, val_score_demoir: 0.9199, val_score_haze: 0.8326, val_score_rain: 0.8825\n"
     ]
    },
    {
     "data": {
      "application/vnd.jupyter.widget-view+json": {
       "model_id": "9513b133e92e457797d0812ac578d357",
       "version_major": 2,
       "version_minor": 0
      },
      "text/plain": [
       "  0%|          | 0/7554 [00:00<?, ?it/s]"
      ]
     },
     "metadata": {},
     "output_type": "display_data"
    },
    {
     "data": {
      "application/vnd.jupyter.widget-view+json": {
       "model_id": "f5eaaca431764f1b9189c0fa50a8156a",
       "version_major": 2,
       "version_minor": 0
      },
      "text/plain": [
       "  0%|          | 0/954 [00:00<?, ?it/s]"
      ]
     },
     "metadata": {},
     "output_type": "display_data"
    },
    {
     "name": "stdout",
     "output_type": "stream",
     "text": [
      "blur\n",
      "prec 0.9745805795627855, rec 0.9378669275929545, f2 0.9558713537766126\n",
      "demoir\n",
      "prec 0.9429175475687097, rec 0.8919999999999995, f2 0.9167523124352654\n",
      "haze\n",
      "prec 0.995020746887966, rec 0.7179640718562871, f2 0.8340869565212516\n",
      "rain\n",
      "prec 0.8071013997951517, rec 0.9788819875776393, f2 0.88473053892166\n",
      "Epoch [8], last_lr: 0.0000, train_loss: 0.0699, val_loss: 0.2799, val_score: 0.9001, val_score_blur: 0.9559, val_score_demoir: 0.9168, val_score_haze: 0.8341, val_score_rain: 0.8847\n"
     ]
    },
    {
     "data": {
      "application/vnd.jupyter.widget-view+json": {
       "model_id": "4181f44a127447449bd362b809f5aedf",
       "version_major": 2,
       "version_minor": 0
      },
      "text/plain": [
       "  0%|          | 0/7554 [00:00<?, ?it/s]"
      ]
     },
     "metadata": {},
     "output_type": "display_data"
    },
    {
     "data": {
      "application/vnd.jupyter.widget-view+json": {
       "model_id": "d3864349bc0b44c885e705d89c28334f",
       "version_major": 2,
       "version_minor": 0
      },
      "text/plain": [
       "  0%|          | 0/954 [00:00<?, ?it/s]"
      ]
     },
     "metadata": {},
     "output_type": "display_data"
    },
    {
     "name": "stdout",
     "output_type": "stream",
     "text": [
      "blur\n",
      "prec 0.9796954314720807, rec 0.9442270058708411, f2 0.9616342800194299\n",
      "demoir\n",
      "prec 0.9352861035422337, rec 0.9153333333333328, f2 0.9252021563337313\n",
      "haze\n",
      "prec 0.9892827699917552, rec 0.7185628742514966, f2 0.8324661810609063\n",
      "rain\n",
      "prec 0.8132509440439407, rec 0.9809523809523806, f2 0.8892642642637681\n",
      "Epoch [9], last_lr: 0.0000, train_loss: 0.0607, val_loss: 0.2623, val_score: 0.9046, val_score_blur: 0.9616, val_score_demoir: 0.9252, val_score_haze: 0.8325, val_score_rain: 0.8893\n",
      "CPU times: user 1h 12min 5s, sys: 7min 51s, total: 1h 19min 56s\n",
      "Wall time: 1h 34min 50s\n"
     ]
    }
   ],
   "source": [
    "%%time\n",
    "history += fit_one_cycle(epochs, max_lr, model, train_dl, val_dl,\n",
    "                         weight_decay=weight_decay, \n",
    "                         opt_func=opt_func)"
   ]
  },
  {
   "cell_type": "code",
   "execution_count": 94,
   "metadata": {
    "tags": []
   },
   "outputs": [
    {
     "data": {
      "application/vnd.jupyter.widget-view+json": {
       "model_id": "fcde9e6c73b5436393ac3e221887791f",
       "version_major": 2,
       "version_minor": 0
      },
      "text/plain": [
       "  0%|          | 0/7554 [00:00<?, ?it/s]"
      ]
     },
     "metadata": {},
     "output_type": "display_data"
    },
    {
     "data": {
      "application/vnd.jupyter.widget-view+json": {
       "model_id": "60271334c5a84610a8c366986795ed56",
       "version_major": 2,
       "version_minor": 0
      },
      "text/plain": [
       "  0%|          | 0/954 [00:00<?, ?it/s]"
      ]
     },
     "metadata": {},
     "output_type": "display_data"
    },
    {
     "name": "stdout",
     "output_type": "stream",
     "text": [
      "blur\n",
      "prec 0.985804416403785, rec 0.9173189823874751, f2 0.9503294475413147\n",
      "demoir\n",
      "prec 0.8884012539184948, rec 0.9446666666666661, f2 0.9156704361868989\n",
      "haze\n",
      "prec 0.9941908713692938, rec 0.7173652694610775, f2 0.8333913043473388\n",
      "rain\n",
      "prec 0.822483102098897, rec 0.9573498964803309, f2 0.8848067355525067\n",
      "Epoch [0], last_lr: 0.0003, train_loss: 0.0647, val_loss: 0.2389, val_score: 0.8984, val_score_blur: 0.9503, val_score_demoir: 0.9157, val_score_haze: 0.8334, val_score_rain: 0.8848\n"
     ]
    },
    {
     "data": {
      "application/vnd.jupyter.widget-view+json": {
       "model_id": "1ac1bf3588d44559b24a1979fdedd475",
       "version_major": 2,
       "version_minor": 0
      },
      "text/plain": [
       "  0%|          | 0/7554 [00:00<?, ?it/s]"
      ]
     },
     "metadata": {},
     "output_type": "display_data"
    },
    {
     "data": {
      "application/vnd.jupyter.widget-view+json": {
       "model_id": "a9dc362d2a5b486da8f712a9ab81abf5",
       "version_major": 2,
       "version_minor": 0
      },
      "text/plain": [
       "  0%|          | 0/954 [00:00<?, ?it/s]"
      ]
     },
     "metadata": {},
     "output_type": "display_data"
    },
    {
     "name": "stdout",
     "output_type": "stream",
     "text": [
      "blur\n",
      "prec 0.9819121447028419, rec 0.9295499021526414, f2 0.9550138225679845\n",
      "demoir\n",
      "prec 0.9261119081779047, rec 0.8606666666666661, f2 0.8921907394604537\n",
      "haze\n",
      "prec 0.9836333878887064, rec 0.7197604790419158, f2 0.8312586445361643\n",
      "rain\n",
      "prec 0.7874493927125503, rec 0.9664596273291922, f2 0.8678192972666549\n",
      "Epoch [1], last_lr: 0.0008, train_loss: 0.0951, val_loss: 0.2674, val_score: 0.8884, val_score_blur: 0.9550, val_score_demoir: 0.8922, val_score_haze: 0.8313, val_score_rain: 0.8678\n"
     ]
    },
    {
     "data": {
      "application/vnd.jupyter.widget-view+json": {
       "model_id": "c0cc783abaf142359b2e31282a3f3027",
       "version_major": 2,
       "version_minor": 0
      },
      "text/plain": [
       "  0%|          | 0/7554 [00:00<?, ?it/s]"
      ]
     },
     "metadata": {},
     "output_type": "display_data"
    },
    {
     "data": {
      "application/vnd.jupyter.widget-view+json": {
       "model_id": "2249a6a26c74469c9794de5a6ce2b6e0",
       "version_major": 2,
       "version_minor": 0
      },
      "text/plain": [
       "  0%|          | 0/954 [00:00<?, ?it/s]"
      ]
     },
     "metadata": {},
     "output_type": "display_data"
    },
    {
     "name": "stdout",
     "output_type": "stream",
     "text": [
      "blur\n",
      "prec 0.9278202676864241, rec 0.9496086105675142, f2 0.9385880077364435\n",
      "demoir\n",
      "prec 0.9153284671532841, rec 0.8359999999999995, f2 0.8738675958183157\n",
      "haze\n",
      "prec 0.9724919093851125, rec 0.7197604790419158, f2 0.8272539573291734\n",
      "rain\n",
      "prec 0.8140132061628758, rec 0.9188405797101445, f2 0.8632561758407774\n",
      "Epoch [2], last_lr: 0.0010, train_loss: 0.1246, val_loss: 0.2538, val_score: 0.8790, val_score_blur: 0.9386, val_score_demoir: 0.8739, val_score_haze: 0.8273, val_score_rain: 0.8633\n"
     ]
    },
    {
     "data": {
      "application/vnd.jupyter.widget-view+json": {
       "model_id": "c5ca717fbf8c4514b90bb6b8b64f4d2d",
       "version_major": 2,
       "version_minor": 0
      },
      "text/plain": [
       "  0%|          | 0/7554 [00:00<?, ?it/s]"
      ]
     },
     "metadata": {},
     "output_type": "display_data"
    },
    {
     "data": {
      "application/vnd.jupyter.widget-view+json": {
       "model_id": "556ee70ccbc946839eef995ad333a82c",
       "version_major": 2,
       "version_minor": 0
      },
      "text/plain": [
       "  0%|          | 0/954 [00:00<?, ?it/s]"
      ]
     },
     "metadata": {},
     "output_type": "display_data"
    },
    {
     "name": "stdout",
     "output_type": "stream",
     "text": [
      "blur\n",
      "prec 0.9489744872436214, rec 0.9280821917808215, f2 0.9384120702443673\n",
      "demoir\n",
      "prec 0.9081346423562406, rec 0.8633333333333328, f2 0.8851674641143323\n",
      "haze\n",
      "prec 0.9539316918189032, rec 0.7191616766467062, f2 0.8200751109588811\n",
      "rain\n",
      "prec 0.8222548659566652, rec 0.9271221532091094, f2 0.8715453483840868\n",
      "Epoch [3], last_lr: 0.0010, train_loss: 0.1235, val_loss: 0.2884, val_score: 0.8821, val_score_blur: 0.9384, val_score_demoir: 0.8852, val_score_haze: 0.8201, val_score_rain: 0.8715\n"
     ]
    },
    {
     "data": {
      "application/vnd.jupyter.widget-view+json": {
       "model_id": "669db806315c4eb4b34bf67290409c51",
       "version_major": 2,
       "version_minor": 0
      },
      "text/plain": [
       "  0%|          | 0/7554 [00:00<?, ?it/s]"
      ]
     },
     "metadata": {},
     "output_type": "display_data"
    },
    {
     "data": {
      "application/vnd.jupyter.widget-view+json": {
       "model_id": "54b8c40650684229b1b4bee799795b35",
       "version_major": 2,
       "version_minor": 0
      },
      "text/plain": [
       "  0%|          | 0/954 [00:00<?, ?it/s]"
      ]
     },
     "metadata": {},
     "output_type": "display_data"
    },
    {
     "name": "stdout",
     "output_type": "stream",
     "text": [
      "blur\n",
      "prec 0.971428571428571, rec 0.9315068493150681, f2 0.9510489510484508\n",
      "demoir\n",
      "prec 0.9067288474350428, rec 0.9073333333333328, f2 0.9070309896696093\n",
      "haze\n",
      "prec 0.9933774834437079, rec 0.7185628742514966, f2 0.833912439193397\n",
      "rain\n",
      "prec 0.817886765236206, rec 0.9391304347826084, f2 0.8743253662292632\n",
      "Epoch [4], last_lr: 0.0008, train_loss: 0.1064, val_loss: 0.2748, val_score: 0.8935, val_score_blur: 0.9510, val_score_demoir: 0.9070, val_score_haze: 0.8339, val_score_rain: 0.8743\n"
     ]
    },
    {
     "data": {
      "application/vnd.jupyter.widget-view+json": {
       "model_id": "9654f5bb53244aa0b82618a1c0f24bd1",
       "version_major": 2,
       "version_minor": 0
      },
      "text/plain": [
       "  0%|          | 0/7554 [00:00<?, ?it/s]"
      ]
     },
     "metadata": {},
     "output_type": "display_data"
    },
    {
     "data": {
      "application/vnd.jupyter.widget-view+json": {
       "model_id": "f77e7c14431d47aaa263f515aa04da5f",
       "version_major": 2,
       "version_minor": 0
      },
      "text/plain": [
       "  0%|          | 0/954 [00:00<?, ?it/s]"
      ]
     },
     "metadata": {},
     "output_type": "display_data"
    },
    {
     "name": "stdout",
     "output_type": "stream",
     "text": [
      "blur\n",
      "prec 0.8765486725663714, rec 0.9691780821917804, f2 0.9205390334567499\n",
      "demoir\n",
      "prec 0.8948087431693984, rec 0.8733333333333329, f2 0.8839406207822255\n",
      "haze\n",
      "prec 0.9983333333333326, rec 0.7173652694610775, f2 0.8348432055744258\n",
      "rain\n",
      "prec 0.8298611111111108, rec 0.8906832298136642, f2 0.8591971240258635\n",
      "Epoch [5], last_lr: 0.0006, train_loss: 0.0917, val_loss: 0.2364, val_score: 0.8769, val_score_blur: 0.9205, val_score_demoir: 0.8839, val_score_haze: 0.8348, val_score_rain: 0.8592\n"
     ]
    },
    {
     "data": {
      "application/vnd.jupyter.widget-view+json": {
       "model_id": "e565b19aef1e489094b5ebafac4376e8",
       "version_major": 2,
       "version_minor": 0
      },
      "text/plain": [
       "  0%|          | 0/7554 [00:00<?, ?it/s]"
      ]
     },
     "metadata": {},
     "output_type": "display_data"
    },
    {
     "data": {
      "application/vnd.jupyter.widget-view+json": {
       "model_id": "c5797087745842668a3bba294b0ade78",
       "version_major": 2,
       "version_minor": 0
      },
      "text/plain": [
       "  0%|          | 0/954 [00:00<?, ?it/s]"
      ]
     },
     "metadata": {},
     "output_type": "display_data"
    },
    {
     "name": "stdout",
     "output_type": "stream",
     "text": [
      "blur\n",
      "prec 0.9457773512476003, rec 0.9642857142857139, f2 0.9549418604646158\n",
      "demoir\n",
      "prec 0.97072072072072, rec 0.8619999999999994, f2 0.9131355932198402\n",
      "haze\n",
      "prec 0.9975062344139644, rec 0.7185628742514966, f2 0.8353637312908457\n",
      "rain\n",
      "prec 0.8130449947680499, rec 0.9652173913043475, f2 0.882620219613286\n",
      "Epoch [6], last_lr: 0.0004, train_loss: 0.0769, val_loss: 0.2243, val_score: 0.8991, val_score_blur: 0.9549, val_score_demoir: 0.9131, val_score_haze: 0.8354, val_score_rain: 0.8826\n"
     ]
    },
    {
     "data": {
      "application/vnd.jupyter.widget-view+json": {
       "model_id": "772e2f6559b1437c88b0d9a6ea253a9d",
       "version_major": 2,
       "version_minor": 0
      },
      "text/plain": [
       "  0%|          | 0/7554 [00:00<?, ?it/s]"
      ]
     },
     "metadata": {},
     "output_type": "display_data"
    },
    {
     "data": {
      "application/vnd.jupyter.widget-view+json": {
       "model_id": "c10e72c7f4944687a227cffb0c46c047",
       "version_major": 2,
       "version_minor": 0
      },
      "text/plain": [
       "  0%|          | 0/954 [00:00<?, ?it/s]"
      ]
     },
     "metadata": {},
     "output_type": "display_data"
    },
    {
     "name": "stdout",
     "output_type": "stream",
     "text": [
      "blur\n",
      "prec 0.9407265774378581, rec 0.9628180039138939, f2 0.9516441005797704\n",
      "demoir\n",
      "prec 0.9665480427046257, rec 0.9053333333333328, f2 0.9349397590356444\n",
      "haze\n",
      "prec 0.9991673605328885, rec 0.7185628742514966, f2 0.8359456635313832\n",
      "rain\n",
      "prec 0.8199220134704003, rec 0.9577639751552791, f2 0.883498854086592\n",
      "Epoch [7], last_lr: 0.0002, train_loss: 0.0610, val_loss: 0.2310, val_score: 0.9030, val_score_blur: 0.9516, val_score_demoir: 0.9349, val_score_haze: 0.8359, val_score_rain: 0.8835\n"
     ]
    },
    {
     "data": {
      "application/vnd.jupyter.widget-view+json": {
       "model_id": "e66e70b592324f73ae80f99835b05137",
       "version_major": 2,
       "version_minor": 0
      },
      "text/plain": [
       "  0%|          | 0/7554 [00:00<?, ?it/s]"
      ]
     },
     "metadata": {},
     "output_type": "display_data"
    },
    {
     "data": {
      "application/vnd.jupyter.widget-view+json": {
       "model_id": "8992e85127f4440bacbf0abd5080d4f0",
       "version_major": 2,
       "version_minor": 0
      },
      "text/plain": [
       "  0%|          | 0/954 [00:00<?, ?it/s]"
      ]
     },
     "metadata": {},
     "output_type": "display_data"
    },
    {
     "name": "stdout",
     "output_type": "stream",
     "text": [
      "blur\n",
      "prec 0.9813319878910187, rec 0.9515655577299409, f2 0.9662195727764494\n",
      "demoir\n",
      "prec 0.9605809128630699, rec 0.9259999999999995, f2 0.9429735234210881\n",
      "haze\n",
      "prec 0.9917355371900819, rec 0.7185628742514966, f2 0.8333333333328454\n",
      "rain\n",
      "prec 0.8174931129476581, rec 0.9830227743271218, f2 0.8926489941713407\n",
      "Epoch [8], last_lr: 0.0000, train_loss: 0.0522, val_loss: 0.3032, val_score: 0.9107, val_score_blur: 0.9662, val_score_demoir: 0.9430, val_score_haze: 0.8333, val_score_rain: 0.8926\n"
     ]
    },
    {
     "data": {
      "application/vnd.jupyter.widget-view+json": {
       "model_id": "601a95b7a3d24dd6a4b30e8d6601e032",
       "version_major": 2,
       "version_minor": 0
      },
      "text/plain": [
       "  0%|          | 0/7554 [00:00<?, ?it/s]"
      ]
     },
     "metadata": {},
     "output_type": "display_data"
    },
    {
     "data": {
      "application/vnd.jupyter.widget-view+json": {
       "model_id": "d9b98e45cffc4b67b444a2a00cf61e02",
       "version_major": 2,
       "version_minor": 0
      },
      "text/plain": [
       "  0%|          | 0/954 [00:00<?, ?it/s]"
      ]
     },
     "metadata": {},
     "output_type": "display_data"
    },
    {
     "name": "stdout",
     "output_type": "stream",
     "text": [
      "blur\n",
      "prec 0.9611411706837182, rec 0.9559686888454008, f2 0.9585479519249349\n",
      "demoir\n",
      "prec 0.964008468595624, rec 0.9106666666666661, f2 0.93657867672216\n",
      "haze\n",
      "prec 0.9958506224066382, rec 0.7185628742514966, f2 0.8347826086951646\n",
      "rain\n",
      "prec 0.8199167244968769, rec 0.9784679089026912, f2 0.8922031338488523\n",
      "Epoch [9], last_lr: 0.0000, train_loss: 0.0472, val_loss: 0.2767, val_score: 0.9077, val_score_blur: 0.9585, val_score_demoir: 0.9366, val_score_haze: 0.8348, val_score_rain: 0.8922\n"
     ]
    },
    {
     "data": {
      "application/vnd.jupyter.widget-view+json": {
       "model_id": "3f85a90453b34983930eefa2562c2dcd",
       "version_major": 2,
       "version_minor": 0
      },
      "text/plain": [
       "  0%|          | 0/7554 [00:00<?, ?it/s]"
      ]
     },
     "metadata": {},
     "output_type": "display_data"
    },
    {
     "data": {
      "application/vnd.jupyter.widget-view+json": {
       "model_id": "e49b7afa4aaf42738df786529a67971c",
       "version_major": 2,
       "version_minor": 0
      },
      "text/plain": [
       "  0%|          | 0/954 [00:00<?, ?it/s]"
      ]
     },
     "metadata": {},
     "output_type": "display_data"
    },
    {
     "name": "stdout",
     "output_type": "stream",
     "text": [
      "blur\n",
      "prec 0.9502868068833648, rec 0.972602739726027, f2 0.9613152804637163\n",
      "demoir\n",
      "prec 0.9779411764705875, rec 0.8866666666666662, f2 0.9300699300694306\n",
      "haze\n",
      "prec 0.9884773662551433, rec 0.7191616766467062, f2 0.8325823223565308\n",
      "rain\n",
      "prec 0.8156618156618154, rec 0.974741200828157, f2 0.8881343142798279\n",
      "Epoch [0], last_lr: 0.0003, train_loss: 0.0504, val_loss: 0.3041, val_score: 0.9054, val_score_blur: 0.9613, val_score_demoir: 0.9301, val_score_haze: 0.8326, val_score_rain: 0.8881\n"
     ]
    },
    {
     "data": {
      "application/vnd.jupyter.widget-view+json": {
       "model_id": "3f9c51e5cd3e4655b8455c710f0efe34",
       "version_major": 2,
       "version_minor": 0
      },
      "text/plain": [
       "  0%|          | 0/7554 [00:00<?, ?it/s]"
      ]
     },
     "metadata": {},
     "output_type": "display_data"
    },
    {
     "data": {
      "application/vnd.jupyter.widget-view+json": {
       "model_id": "4e16159706644a778708f63515fb8452",
       "version_major": 2,
       "version_minor": 0
      },
      "text/plain": [
       "  0%|          | 0/954 [00:00<?, ?it/s]"
      ]
     },
     "metadata": {},
     "output_type": "display_data"
    },
    {
     "name": "stdout",
     "output_type": "stream",
     "text": [
      "blur\n",
      "prec 0.9519843214110726, rec 0.9505870841487276, f2 0.9512851897179818\n",
      "demoir\n",
      "prec 0.9816293929712453, rec 0.8193333333333328, f2 0.8931686046506663\n",
      "haze\n",
      "prec 0.9975062344139644, rec 0.7185628742514966, f2 0.8353637312908457\n",
      "rain\n",
      "prec 0.7952047952047949, rec 0.9888198757763972, f2 0.881506090807922\n",
      "Epoch [1], last_lr: 0.0008, train_loss: 0.0700, val_loss: 0.3217, val_score: 0.8937, val_score_blur: 0.9513, val_score_demoir: 0.8932, val_score_haze: 0.8354, val_score_rain: 0.8815\n"
     ]
    },
    {
     "data": {
      "application/vnd.jupyter.widget-view+json": {
       "model_id": "67411bbdd4f3417b87b0b7fb181f9877",
       "version_major": 2,
       "version_minor": 0
      },
      "text/plain": [
       "  0%|          | 0/7554 [00:00<?, ?it/s]"
      ]
     },
     "metadata": {},
     "output_type": "display_data"
    },
    {
     "data": {
      "application/vnd.jupyter.widget-view+json": {
       "model_id": "ddfbaff1bbe144b19c5298cafb90d5a8",
       "version_major": 2,
       "version_minor": 0
      },
      "text/plain": [
       "  0%|          | 0/954 [00:00<?, ?it/s]"
      ]
     },
     "metadata": {},
     "output_type": "display_data"
    },
    {
     "name": "stdout",
     "output_type": "stream",
     "text": [
      "blur\n",
      "prec 0.9363722697056026, rec 0.9647749510763205, f2 0.9503614457826322\n",
      "demoir\n",
      "prec 0.8013659647125778, rec 0.9386666666666661, f2 0.8645993245312803\n",
      "haze\n",
      "prec 0.9925681255161016, rec 0.7197604790419158, f2 0.8344324887187068\n",
      "rain\n",
      "prec 0.8342719227674977, rec 0.8587991718426498, f2 0.8463578861451844\n",
      "Epoch [2], last_lr: 0.0010, train_loss: 0.0929, val_loss: 0.2667, val_score: 0.8764, val_score_blur: 0.9504, val_score_demoir: 0.8646, val_score_haze: 0.8344, val_score_rain: 0.8464\n"
     ]
    },
    {
     "data": {
      "application/vnd.jupyter.widget-view+json": {
       "model_id": "0a15216a932a4f4195bdcb31ec0532ab",
       "version_major": 2,
       "version_minor": 0
      },
      "text/plain": [
       "  0%|          | 0/7554 [00:00<?, ?it/s]"
      ]
     },
     "metadata": {},
     "output_type": "display_data"
    },
    {
     "data": {
      "application/vnd.jupyter.widget-view+json": {
       "model_id": "9379e61704d244c9985e23d23a6600fb",
       "version_major": 2,
       "version_minor": 0
      },
      "text/plain": [
       "  0%|          | 0/954 [00:00<?, ?it/s]"
      ]
     },
     "metadata": {},
     "output_type": "display_data"
    },
    {
     "name": "stdout",
     "output_type": "stream",
     "text": [
      "blur\n",
      "prec 0.9637462235649542, rec 0.9363992172211346, f2 0.9498759305205915\n",
      "demoir\n",
      "prec 0.9465283320031916, rec 0.7906666666666662, f2 0.8616055212490493\n",
      "haze\n",
      "prec 0.9958471760797335, rec 0.7179640718562871, f2 0.8343771746689629\n",
      "rain\n",
      "prec 0.7749343832020995, rec 0.978053830227743, f2 0.8647263408378737\n",
      "Epoch [3], last_lr: 0.0010, train_loss: 0.0913, val_loss: 0.3481, val_score: 0.8811, val_score_blur: 0.9499, val_score_demoir: 0.8616, val_score_haze: 0.8344, val_score_rain: 0.8647\n"
     ]
    },
    {
     "data": {
      "application/vnd.jupyter.widget-view+json": {
       "model_id": "0354eb9177ce4f6e83132e996b60ae2d",
       "version_major": 2,
       "version_minor": 0
      },
      "text/plain": [
       "  0%|          | 0/7554 [00:00<?, ?it/s]"
      ]
     },
     "metadata": {},
     "output_type": "display_data"
    },
    {
     "data": {
      "application/vnd.jupyter.widget-view+json": {
       "model_id": "6e79f84e6354412b9e447f576bcbe31e",
       "version_major": 2,
       "version_minor": 0
      },
      "text/plain": [
       "  0%|          | 0/954 [00:00<?, ?it/s]"
      ]
     },
     "metadata": {},
     "output_type": "display_data"
    },
    {
     "name": "stdout",
     "output_type": "stream",
     "text": [
      "blur\n",
      "prec 0.909341923607915, rec 0.9667318982387472, f2 0.9371591178557961\n",
      "demoir\n",
      "prec 0.9796954314720805, rec 0.7719999999999996, f2 0.863534675614719\n",
      "haze\n",
      "prec 0.9975041597337763, rec 0.7179640718562871, f2 0.8349582172697078\n",
      "rain\n",
      "prec 0.8096718480138166, rec 0.9706004140786746, f2 0.8828625235399933\n",
      "Epoch [4], last_lr: 0.0008, train_loss: 0.0881, val_loss: 0.3106, val_score: 0.8855, val_score_blur: 0.9372, val_score_demoir: 0.8635, val_score_haze: 0.8350, val_score_rain: 0.8829\n"
     ]
    },
    {
     "data": {
      "application/vnd.jupyter.widget-view+json": {
       "model_id": "52f0542322034c2cafcb9dfd5358c87c",
       "version_major": 2,
       "version_minor": 0
      },
      "text/plain": [
       "  0%|          | 0/7554 [00:00<?, ?it/s]"
      ]
     },
     "metadata": {},
     "output_type": "display_data"
    },
    {
     "data": {
      "application/vnd.jupyter.widget-view+json": {
       "model_id": "3f5817f81aa845ceb4913b5e6e68e00d",
       "version_major": 2,
       "version_minor": 0
      },
      "text/plain": [
       "  0%|          | 0/954 [00:00<?, ?it/s]"
      ]
     },
     "metadata": {},
     "output_type": "display_data"
    },
    {
     "name": "stdout",
     "output_type": "stream",
     "text": [
      "blur\n",
      "prec 0.9806866952789695, rec 0.8943248532289624, f2 0.9355168884334821\n",
      "demoir\n",
      "prec 0.9139344262295076, rec 0.8919999999999995, f2 0.9028340080966655\n",
      "haze\n",
      "prec 0.9772172497965819, rec 0.7191616766467062, f2 0.8285615729557028\n",
      "rain\n",
      "prec 0.8168178646196788, rec 0.9693581780538298, f2 0.8865745124024573\n",
      "Epoch [5], last_lr: 0.0006, train_loss: 0.0776, val_loss: 0.4880, val_score: 0.8913, val_score_blur: 0.9355, val_score_demoir: 0.9028, val_score_haze: 0.8286, val_score_rain: 0.8866\n"
     ]
    },
    {
     "data": {
      "application/vnd.jupyter.widget-view+json": {
       "model_id": "a6b3e286e1de4864bc2a0d3e38bf1c56",
       "version_major": 2,
       "version_minor": 0
      },
      "text/plain": [
       "  0%|          | 0/7554 [00:00<?, ?it/s]"
      ]
     },
     "metadata": {},
     "output_type": "display_data"
    },
    {
     "data": {
      "application/vnd.jupyter.widget-view+json": {
       "model_id": "662c2f02a16e40a480c840d705a32997",
       "version_major": 2,
       "version_minor": 0
      },
      "text/plain": [
       "  0%|          | 0/954 [00:00<?, ?it/s]"
      ]
     },
     "metadata": {},
     "output_type": "display_data"
    },
    {
     "name": "stdout",
     "output_type": "stream",
     "text": [
      "blur\n",
      "prec 0.967613353263577, rec 0.9500978473581209, f2 0.9587756109597563\n",
      "demoir\n",
      "prec 0.9140065146579799, rec 0.9353333333333328, f2 0.9245469522235522\n",
      "haze\n",
      "prec 0.9983361064891839, rec 0.7185628742514966, f2 0.8356545960997912\n",
      "rain\n",
      "prec 0.8240084985835692, rec 0.9635610766045545, f2 0.888337468982133\n",
      "Epoch [6], last_lr: 0.0004, train_loss: 0.0651, val_loss: 0.3563, val_score: 0.9044, val_score_blur: 0.9588, val_score_demoir: 0.9245, val_score_haze: 0.8357, val_score_rain: 0.8883\n"
     ]
    },
    {
     "data": {
      "application/vnd.jupyter.widget-view+json": {
       "model_id": "5520588d1d464fd6aab98643b4e33673",
       "version_major": 2,
       "version_minor": 0
      },
      "text/plain": [
       "  0%|          | 0/7554 [00:00<?, ?it/s]"
      ]
     },
     "metadata": {},
     "output_type": "display_data"
    },
    {
     "data": {
      "application/vnd.jupyter.widget-view+json": {
       "model_id": "a1231ae8ca7d4565b9bea91762a384cc",
       "version_major": 2,
       "version_minor": 0
      },
      "text/plain": [
       "  0%|          | 0/954 [00:00<?, ?it/s]"
      ]
     },
     "metadata": {},
     "output_type": "display_data"
    },
    {
     "name": "stdout",
     "output_type": "stream",
     "text": [
      "blur\n",
      "prec 0.9870331950207464, rec 0.9310176125244615, f2 0.958207452164656\n",
      "demoir\n",
      "prec 0.9383050847457621, rec 0.9226666666666661, f2 0.9304201680667263\n",
      "haze\n",
      "prec 0.9950248756218898, rec 0.7185628742514966, f2 0.8344923504862996\n",
      "rain\n",
      "prec 0.8147008547008544, rec 0.9867494824016559, f2 0.8925093632953843\n",
      "Epoch [7], last_lr: 0.0002, train_loss: 0.0540, val_loss: 0.7560, val_score: 0.9062, val_score_blur: 0.9582, val_score_demoir: 0.9304, val_score_haze: 0.8345, val_score_rain: 0.8925\n"
     ]
    },
    {
     "data": {
      "application/vnd.jupyter.widget-view+json": {
       "model_id": "b3e476b5b6854743bfbf5069a36f5467",
       "version_major": 2,
       "version_minor": 0
      },
      "text/plain": [
       "  0%|          | 0/7554 [00:00<?, ?it/s]"
      ]
     },
     "metadata": {},
     "output_type": "display_data"
    },
    {
     "data": {
      "application/vnd.jupyter.widget-view+json": {
       "model_id": "c98ccded92704ce5ae5729ad3b6b12e3",
       "version_major": 2,
       "version_minor": 0
      },
      "text/plain": [
       "  0%|          | 0/954 [00:00<?, ?it/s]"
      ]
     },
     "metadata": {},
     "output_type": "display_data"
    },
    {
     "name": "stdout",
     "output_type": "stream",
     "text": [
      "blur\n",
      "prec 0.9868287740628162, rec 0.9530332681017608, f2 0.9696366351413613\n",
      "demoir\n",
      "prec 0.9735525375268043, rec 0.9079999999999995, f2 0.9396343566742155\n",
      "haze\n",
      "prec 0.9983361064891839, rec 0.7185628742514966, f2 0.8356545960997912\n",
      "rain\n",
      "prec 0.807394957983193, rec 0.9946169772256725, f2 0.8912801484225106\n",
      "Epoch [8], last_lr: 0.0000, train_loss: 0.0480, val_loss: 0.4066, val_score: 0.9107, val_score_blur: 0.9696, val_score_demoir: 0.9396, val_score_haze: 0.8357, val_score_rain: 0.8913\n"
     ]
    },
    {
     "data": {
      "application/vnd.jupyter.widget-view+json": {
       "model_id": "c34032d35d8942f29b94e5adeadaff89",
       "version_major": 2,
       "version_minor": 0
      },
      "text/plain": [
       "  0%|          | 0/7554 [00:00<?, ?it/s]"
      ]
     },
     "metadata": {},
     "output_type": "display_data"
    },
    {
     "data": {
      "application/vnd.jupyter.widget-view+json": {
       "model_id": "fc73809b31f94c17b2b7645f8b8bf702",
       "version_major": 2,
       "version_minor": 0
      },
      "text/plain": [
       "  0%|          | 0/954 [00:00<?, ?it/s]"
      ]
     },
     "metadata": {},
     "output_type": "display_data"
    },
    {
     "name": "stdout",
     "output_type": "stream",
     "text": [
      "blur\n",
      "prec 0.9804902451225609, rec 0.9589041095890407, f2 0.9695770467469644\n",
      "demoir\n",
      "prec 0.9711064129668775, rec 0.9186666666666661, f2 0.9441589585469474\n",
      "haze\n",
      "prec 0.9983361064891839, rec 0.7185628742514966, f2 0.8356545960997912\n",
      "rain\n",
      "prec 0.8140088405304315, rec 0.9913043478260866, f2 0.8939507094841945\n",
      "Epoch [9], last_lr: 0.0000, train_loss: 0.0443, val_loss: 0.4163, val_score: 0.9127, val_score_blur: 0.9696, val_score_demoir: 0.9442, val_score_haze: 0.8357, val_score_rain: 0.8940\n"
     ]
    },
    {
     "data": {
      "application/vnd.jupyter.widget-view+json": {
       "model_id": "c7ab11a1745e40eab6bebff60e29ebbb",
       "version_major": 2,
       "version_minor": 0
      },
      "text/plain": [
       "  0%|          | 0/7554 [00:00<?, ?it/s]"
      ]
     },
     "metadata": {},
     "output_type": "display_data"
    },
    {
     "data": {
      "application/vnd.jupyter.widget-view+json": {
       "model_id": "2ca5ac2d5d0f4d5cb428ec0eaf585f73",
       "version_major": 2,
       "version_minor": 0
      },
      "text/plain": [
       "  0%|          | 0/954 [00:00<?, ?it/s]"
      ]
     },
     "metadata": {},
     "output_type": "display_data"
    },
    {
     "name": "stdout",
     "output_type": "stream",
     "text": [
      "blur\n",
      "prec 0.961918892185954, rec 0.9515655577299409, f2 0.9567142154446545\n",
      "demoir\n",
      "prec 0.9464653397391896, rec 0.9193333333333328, f2 0.9327020629010889\n",
      "haze\n",
      "prec 0.9991673605328885, rec 0.7185628742514966, f2 0.8359456635313832\n",
      "rain\n",
      "prec 0.8212036389083273, rec 0.9718426501035193, f2 0.8901953347235692\n",
      "Epoch [0], last_lr: 0.0003, train_loss: 0.0460, val_loss: 0.6836, val_score: 0.9060, val_score_blur: 0.9567, val_score_demoir: 0.9327, val_score_haze: 0.8359, val_score_rain: 0.8902\n"
     ]
    },
    {
     "data": {
      "application/vnd.jupyter.widget-view+json": {
       "model_id": "1ba6468c2b0e419ea88685ccfe3a87c1",
       "version_major": 2,
       "version_minor": 0
      },
      "text/plain": [
       "  0%|          | 0/7554 [00:00<?, ?it/s]"
      ]
     },
     "metadata": {},
     "output_type": "display_data"
    },
    {
     "data": {
      "application/vnd.jupyter.widget-view+json": {
       "model_id": "25d632006194462d8a5ab9ea6e6ccda0",
       "version_major": 2,
       "version_minor": 0
      },
      "text/plain": [
       "  0%|          | 0/954 [00:00<?, ?it/s]"
      ]
     },
     "metadata": {},
     "output_type": "display_data"
    },
    {
     "name": "stdout",
     "output_type": "stream",
     "text": [
      "blur\n",
      "prec 0.9420360448124692, rec 0.9461839530332676, f2 0.944105443006578\n",
      "demoir\n",
      "prec 0.9653225806451606, rec 0.7979999999999995, f2 0.8737226277367303\n",
      "haze\n",
      "prec 0.9991673605328885, rec 0.7185628742514966, f2 0.8359456635313832\n",
      "rain\n",
      "prec 0.7912379688018584, rec 0.9871635610766042, f2 0.8784082534998742\n",
      "Epoch [1], last_lr: 0.0008, train_loss: 0.0618, val_loss: 0.2851, val_score: 0.8873, val_score_blur: 0.9441, val_score_demoir: 0.8737, val_score_haze: 0.8359, val_score_rain: 0.8784\n"
     ]
    },
    {
     "data": {
      "application/vnd.jupyter.widget-view+json": {
       "model_id": "228462f67e424ce8aaab60af7c1c9031",
       "version_major": 2,
       "version_minor": 0
      },
      "text/plain": [
       "  0%|          | 0/7554 [00:00<?, ?it/s]"
      ]
     },
     "metadata": {},
     "output_type": "display_data"
    },
    {
     "data": {
      "application/vnd.jupyter.widget-view+json": {
       "model_id": "be183e2bd6624f78a5a4c512274d91b5",
       "version_major": 2,
       "version_minor": 0
      },
      "text/plain": [
       "  0%|          | 0/954 [00:00<?, ?it/s]"
      ]
     },
     "metadata": {},
     "output_type": "display_data"
    },
    {
     "name": "stdout",
     "output_type": "stream",
     "text": [
      "blur\n",
      "prec 0.9666329625884728, rec 0.9354207436399213, f2 0.9507707608150144\n",
      "demoir\n",
      "prec 0.9838572642310952, rec 0.7719999999999996, f2 0.8651475532307357\n",
      "haze\n",
      "prec 0.9933719966859976, rec 0.7179640718562871, f2 0.8335071254774409\n",
      "rain\n",
      "prec 0.7939999999999997, rec 0.9863354037267077, f2 0.879778393351306\n",
      "Epoch [2], last_lr: 0.0010, train_loss: 0.0809, val_loss: 0.9008, val_score: 0.8873, val_score_blur: 0.9508, val_score_demoir: 0.8651, val_score_haze: 0.8335, val_score_rain: 0.8798\n"
     ]
    },
    {
     "data": {
      "application/vnd.jupyter.widget-view+json": {
       "model_id": "c7c90f2e1d4142fd8cf56db0853d1b43",
       "version_major": 2,
       "version_minor": 0
      },
      "text/plain": [
       "  0%|          | 0/7554 [00:00<?, ?it/s]"
      ]
     },
     "metadata": {},
     "output_type": "display_data"
    },
    {
     "data": {
      "application/vnd.jupyter.widget-view+json": {
       "model_id": "9ec0972a35dc4abbb27d8f2d09c4f048",
       "version_major": 2,
       "version_minor": 0
      },
      "text/plain": [
       "  0%|          | 0/954 [00:00<?, ?it/s]"
      ]
     },
     "metadata": {},
     "output_type": "display_data"
    },
    {
     "name": "stdout",
     "output_type": "stream",
     "text": [
      "blur\n",
      "prec 0.9791183294663568, rec 0.8258317025440309, f2 0.8959660297234946\n",
      "demoir\n",
      "prec 0.9045031055900614, rec 0.7766666666666662, f2 0.8357245337154278\n",
      "haze\n",
      "prec 0.9974999999999993, rec 0.7167664670658679, f2 0.8341463414629275\n",
      "rain\n",
      "prec 0.7623446957629816, rec 0.9908902691511383, f2 0.8617212819584567\n",
      "Epoch [3], last_lr: 0.0010, train_loss: 0.0859, val_loss: 0.4879, val_score: 0.8602, val_score_blur: 0.8960, val_score_demoir: 0.8357, val_score_haze: 0.8341, val_score_rain: 0.8617\n"
     ]
    },
    {
     "data": {
      "application/vnd.jupyter.widget-view+json": {
       "model_id": "49ba75cbfd2d4b86893cac1ba75718bf",
       "version_major": 2,
       "version_minor": 0
      },
      "text/plain": [
       "  0%|          | 0/7554 [00:00<?, ?it/s]"
      ]
     },
     "metadata": {},
     "output_type": "display_data"
    },
    {
     "data": {
      "application/vnd.jupyter.widget-view+json": {
       "model_id": "0bc485579f3a490ebdca60e902e23749",
       "version_major": 2,
       "version_minor": 0
      },
      "text/plain": [
       "  0%|          | 0/954 [00:00<?, ?it/s]"
      ]
     },
     "metadata": {},
     "output_type": "display_data"
    },
    {
     "name": "stdout",
     "output_type": "stream",
     "text": [
      "blur\n",
      "prec 0.9903277807630302, rec 0.9016634050880622, f2 0.9439180537767095\n",
      "demoir\n",
      "prec 0.9082094376212018, rec 0.9366666666666661, f2 0.9222185756476781\n",
      "haze\n",
      "prec 0.9999999999999992, rec 0.7185628742514966, f2 0.8362369337974223\n",
      "rain\n",
      "prec 0.8076393668272537, rec 0.9718426501035193, f2 0.8821650065772149\n",
      "Epoch [4], last_lr: 0.0008, train_loss: 0.0782, val_loss: 0.4741, val_score: 0.8974, val_score_blur: 0.9439, val_score_demoir: 0.9222, val_score_haze: 0.8362, val_score_rain: 0.8822\n"
     ]
    },
    {
     "data": {
      "application/vnd.jupyter.widget-view+json": {
       "model_id": "a7884a1009e9463a819d1eb8f36013b1",
       "version_major": 2,
       "version_minor": 0
      },
      "text/plain": [
       "  0%|          | 0/7554 [00:00<?, ?it/s]"
      ]
     },
     "metadata": {},
     "output_type": "display_data"
    },
    {
     "data": {
      "application/vnd.jupyter.widget-view+json": {
       "model_id": "d41449f644d04c3e8f191da2796f53d6",
       "version_major": 2,
       "version_minor": 0
      },
      "text/plain": [
       "  0%|          | 0/954 [00:00<?, ?it/s]"
      ]
     },
     "metadata": {},
     "output_type": "display_data"
    },
    {
     "name": "stdout",
     "output_type": "stream",
     "text": [
      "blur\n",
      "prec 0.9727606076479828, rec 0.9085127201565554, f2 0.93953959018417\n",
      "demoir\n",
      "prec 0.9588537839823653, rec 0.8699999999999994, f2 0.9122684376087281\n",
      "haze\n",
      "prec 0.9950248756218898, rec 0.7185628742514966, f2 0.8344923504862996\n",
      "rain\n",
      "prec 0.8062094848174682, rec 0.9784679089026912, f2 0.8840254395804995\n",
      "Epoch [5], last_lr: 0.0006, train_loss: 0.0700, val_loss: 1.0197, val_score: 0.8945, val_score_blur: 0.9395, val_score_demoir: 0.9123, val_score_haze: 0.8345, val_score_rain: 0.8840\n"
     ]
    },
    {
     "data": {
      "application/vnd.jupyter.widget-view+json": {
       "model_id": "6912df9ca77d463e8c72176be7279ded",
       "version_major": 2,
       "version_minor": 0
      },
      "text/plain": [
       "  0%|          | 0/7554 [00:00<?, ?it/s]"
      ]
     },
     "metadata": {},
     "output_type": "display_data"
    },
    {
     "data": {
      "application/vnd.jupyter.widget-view+json": {
       "model_id": "04a32344fc5a4431a618719ce3c0c91f",
       "version_major": 2,
       "version_minor": 0
      },
      "text/plain": [
       "  0%|          | 0/954 [00:00<?, ?it/s]"
      ]
     },
     "metadata": {},
     "output_type": "display_data"
    },
    {
     "name": "stdout",
     "output_type": "stream",
     "text": [
      "blur\n",
      "prec 0.9730807577268191, rec 0.9549902152641875, f2 0.9639506172834502\n",
      "demoir\n",
      "prec 0.9539518900343636, rec 0.9253333333333328, f2 0.9394247038912085\n",
      "haze\n",
      "prec 0.9900990099009893, rec 0.7185628742514966, f2 0.8327550312278257\n",
      "rain\n",
      "prec 0.8250708215297448, rec 0.9648033126293992, f2 0.8894827257105162\n",
      "Epoch [6], last_lr: 0.0004, train_loss: 0.0627, val_loss: 0.6716, val_score: 0.9084, val_score_blur: 0.9640, val_score_demoir: 0.9394, val_score_haze: 0.8328, val_score_rain: 0.8895\n"
     ]
    },
    {
     "data": {
      "application/vnd.jupyter.widget-view+json": {
       "model_id": "a1ade55d5dea4c0d9312874e50bbeb4a",
       "version_major": 2,
       "version_minor": 0
      },
      "text/plain": [
       "  0%|          | 0/7554 [00:00<?, ?it/s]"
      ]
     },
     "metadata": {},
     "output_type": "display_data"
    },
    {
     "data": {
      "application/vnd.jupyter.widget-view+json": {
       "model_id": "d6052ebcfc724d0891e45eb58d118e6b",
       "version_major": 2,
       "version_minor": 0
      },
      "text/plain": [
       "  0%|          | 0/954 [00:00<?, ?it/s]"
      ]
     },
     "metadata": {},
     "output_type": "display_data"
    },
    {
     "name": "stdout",
     "output_type": "stream",
     "text": [
      "blur\n",
      "prec 0.972472472472472, rec 0.9505870841487276, f2 0.961405244927753\n",
      "demoir\n",
      "prec 0.9590562109646074, rec 0.9213333333333328, f2 0.9398163889828387\n",
      "haze\n",
      "prec 0.9966777408637866, rec 0.7185628742514966, f2 0.8350730688930407\n",
      "rain\n",
      "prec 0.817089910775566, rec 0.9859213250517594, f2 0.8936010508533229\n",
      "Epoch [7], last_lr: 0.0002, train_loss: 0.0521, val_loss: 1.2970, val_score: 0.9095, val_score_blur: 0.9614, val_score_demoir: 0.9398, val_score_haze: 0.8351, val_score_rain: 0.8936\n"
     ]
    },
    {
     "data": {
      "application/vnd.jupyter.widget-view+json": {
       "model_id": "9f13f5c1986447768e775a5f038c4688",
       "version_major": 2,
       "version_minor": 0
      },
      "text/plain": [
       "  0%|          | 0/7554 [00:00<?, ?it/s]"
      ]
     },
     "metadata": {},
     "output_type": "display_data"
    },
    {
     "data": {
      "application/vnd.jupyter.widget-view+json": {
       "model_id": "674371d5e29f4a8281487d2c5755936b",
       "version_major": 2,
       "version_minor": 0
      },
      "text/plain": [
       "  0%|          | 0/954 [00:00<?, ?it/s]"
      ]
     },
     "metadata": {},
     "output_type": "display_data"
    },
    {
     "name": "stdout",
     "output_type": "stream",
     "text": [
      "blur\n",
      "prec 0.98469387755102, rec 0.9442270058708411, f2 0.9640359640354638\n",
      "demoir\n",
      "prec 0.9583911234396665, rec 0.9213333333333328, f2 0.9394969408560597\n",
      "haze\n",
      "prec 0.9999999999999992, rec 0.7185628742514966, f2 0.8362369337974223\n",
      "rain\n",
      "prec 0.8138117806364249, rec 0.9954451345755689, f2 0.895511268392129\n",
      "Epoch [8], last_lr: 0.0000, train_loss: 0.0456, val_loss: 1.1745, val_score: 0.9109, val_score_blur: 0.9640, val_score_demoir: 0.9395, val_score_haze: 0.8362, val_score_rain: 0.8955\n"
     ]
    },
    {
     "data": {
      "application/vnd.jupyter.widget-view+json": {
       "model_id": "363c4286a10544eba2c8bbdc9db52eee",
       "version_major": 2,
       "version_minor": 0
      },
      "text/plain": [
       "  0%|          | 0/7554 [00:00<?, ?it/s]"
      ]
     },
     "metadata": {},
     "output_type": "display_data"
    },
    {
     "data": {
      "application/vnd.jupyter.widget-view+json": {
       "model_id": "8ba2956f2e7648a7b00f09bf89b18a71",
       "version_major": 2,
       "version_minor": 0
      },
      "text/plain": [
       "  0%|          | 0/954 [00:00<?, ?it/s]"
      ]
     },
     "metadata": {},
     "output_type": "display_data"
    },
    {
     "name": "stdout",
     "output_type": "stream",
     "text": [
      "blur\n",
      "prec 0.9738430583501002, rec 0.947162426614481, f2 0.96031746031696\n",
      "demoir\n",
      "prec 0.9601449275362313, rec 0.8833333333333327, f2 0.9201388888883892\n",
      "haze\n",
      "prec 0.9983361064891839, rec 0.7185628742514966, f2 0.8356545960997912\n",
      "rain\n",
      "prec 0.8073178919100367, rec 0.9958592132505172, f2 0.8917315535775547\n",
      "Epoch [9], last_lr: 0.0000, train_loss: 0.0425, val_loss: 1.3993, val_score: 0.9047, val_score_blur: 0.9603, val_score_demoir: 0.9201, val_score_haze: 0.8357, val_score_rain: 0.8917\n"
     ]
    },
    {
     "data": {
      "application/vnd.jupyter.widget-view+json": {
       "model_id": "11dad842852448e583aa5c634d179d40",
       "version_major": 2,
       "version_minor": 0
      },
      "text/plain": [
       "  0%|          | 0/7554 [00:00<?, ?it/s]"
      ]
     },
     "metadata": {},
     "output_type": "display_data"
    },
    {
     "data": {
      "application/vnd.jupyter.widget-view+json": {
       "model_id": "8efe11b2bded403fa3e477a30d75a18d",
       "version_major": 2,
       "version_minor": 0
      },
      "text/plain": [
       "  0%|          | 0/954 [00:00<?, ?it/s]"
      ]
     },
     "metadata": {},
     "output_type": "display_data"
    },
    {
     "name": "stdout",
     "output_type": "stream",
     "text": [
      "blur\n",
      "prec 0.9586374695863743, rec 0.9637964774951072, f2 0.9612100512315074\n",
      "demoir\n",
      "prec 0.9680170575692958, rec 0.9079999999999995, f2 0.9370485036114711\n",
      "haze\n",
      "prec 0.9991673605328885, rec 0.7185628742514966, f2 0.8359456635313832\n",
      "rain\n",
      "prec 0.8203448275862066, rec 0.985093167701863, f2 0.8952022577605573\n",
      "Epoch [0], last_lr: 0.0003, train_loss: 0.0451, val_loss: 1.4465, val_score: 0.9098, val_score_blur: 0.9612, val_score_demoir: 0.9370, val_score_haze: 0.8359, val_score_rain: 0.8952\n"
     ]
    },
    {
     "data": {
      "application/vnd.jupyter.widget-view+json": {
       "model_id": "29723a34a70645c493b9d5aa4a0fc4d7",
       "version_major": 2,
       "version_minor": 0
      },
      "text/plain": [
       "  0%|          | 0/7554 [00:00<?, ?it/s]"
      ]
     },
     "metadata": {},
     "output_type": "display_data"
    },
    {
     "data": {
      "application/vnd.jupyter.widget-view+json": {
       "model_id": "39b11fe66ac9400d89871f553d27d8fd",
       "version_major": 2,
       "version_minor": 0
      },
      "text/plain": [
       "  0%|          | 0/954 [00:00<?, ?it/s]"
      ]
     },
     "metadata": {},
     "output_type": "display_data"
    },
    {
     "name": "stdout",
     "output_type": "stream",
     "text": [
      "blur\n",
      "prec 0.9610778443113768, rec 0.9422700587084144, f2 0.9515810276674839\n",
      "demoir\n",
      "prec 0.9451566951566945, rec 0.8846666666666662, f2 0.9139118457295274\n",
      "haze\n",
      "prec 0.9678197908286397, rec 0.7203592814371254, f2 0.8259526261581096\n",
      "rain\n",
      "prec 0.8264580369843525, rec 0.9623188405797097, f2 0.8892290032518462\n",
      "Epoch [1], last_lr: 0.0008, train_loss: 0.0594, val_loss: 1.0248, val_score: 0.8985, val_score_blur: 0.9516, val_score_demoir: 0.9139, val_score_haze: 0.8260, val_score_rain: 0.8892\n"
     ]
    },
    {
     "data": {
      "application/vnd.jupyter.widget-view+json": {
       "model_id": "edb2e5226f3a42e1a01706d6d763acdf",
       "version_major": 2,
       "version_minor": 0
      },
      "text/plain": [
       "  0%|          | 0/7554 [00:00<?, ?it/s]"
      ]
     },
     "metadata": {},
     "output_type": "display_data"
    },
    {
     "data": {
      "application/vnd.jupyter.widget-view+json": {
       "model_id": "664c2137aaec424594c2fb077682eec3",
       "version_major": 2,
       "version_minor": 0
      },
      "text/plain": [
       "  0%|          | 0/954 [00:00<?, ?it/s]"
      ]
     },
     "metadata": {},
     "output_type": "display_data"
    },
    {
     "name": "stdout",
     "output_type": "stream",
     "text": [
      "blur\n",
      "prec 0.972918756268806, rec 0.9491193737769076, f2 0.9608717186721099\n",
      "demoir\n",
      "prec 0.9460641399416904, rec 0.8653333333333328, f2 0.9038997214479685\n",
      "haze\n",
      "prec 0.9950083194675533, rec 0.7161676646706583, f2 0.832869080779457\n",
      "rain\n",
      "prec 0.8044959128065393, rec 0.978053830227743, f2 0.8828256400667815\n",
      "Epoch [2], last_lr: 0.0010, train_loss: 0.0745, val_loss: 1.1938, val_score: 0.8982, val_score_blur: 0.9609, val_score_demoir: 0.9039, val_score_haze: 0.8329, val_score_rain: 0.8828\n"
     ]
    },
    {
     "data": {
      "application/vnd.jupyter.widget-view+json": {
       "model_id": "403bbb5496dc422285405c07bdf293de",
       "version_major": 2,
       "version_minor": 0
      },
      "text/plain": [
       "  0%|          | 0/7554 [00:00<?, ?it/s]"
      ]
     },
     "metadata": {},
     "output_type": "display_data"
    },
    {
     "data": {
      "application/vnd.jupyter.widget-view+json": {
       "model_id": "2b87581416924c4f9ce1720cc1bcaabd",
       "version_major": 2,
       "version_minor": 0
      },
      "text/plain": [
       "  0%|          | 0/954 [00:00<?, ?it/s]"
      ]
     },
     "metadata": {},
     "output_type": "display_data"
    },
    {
     "name": "stdout",
     "output_type": "stream",
     "text": [
      "blur\n",
      "prec 0.9624174707973586, rec 0.9271037181996082, f2 0.9444306005477181\n",
      "demoir\n",
      "prec 0.9581464872944687, rec 0.8546666666666661, f2 0.9034531360107766\n",
      "haze\n",
      "prec 0.9975041597337763, rec 0.7179640718562871, f2 0.8349582172697078\n",
      "rain\n",
      "prec 0.804106361494446, rec 0.9892339544513454, f2 0.8871147419230103\n",
      "Epoch [3], last_lr: 0.0010, train_loss: 0.0768, val_loss: 0.4342, val_score: 0.8955, val_score_blur: 0.9444, val_score_demoir: 0.9035, val_score_haze: 0.8350, val_score_rain: 0.8871\n"
     ]
    },
    {
     "data": {
      "application/vnd.jupyter.widget-view+json": {
       "model_id": "9afd16cb024e4b22ba6af2f93dc36c09",
       "version_major": 2,
       "version_minor": 0
      },
      "text/plain": [
       "  0%|          | 0/7554 [00:00<?, ?it/s]"
      ]
     },
     "metadata": {},
     "output_type": "display_data"
    },
    {
     "data": {
      "application/vnd.jupyter.widget-view+json": {
       "model_id": "0a5055aab7034f8588a210970ce9372f",
       "version_major": 2,
       "version_minor": 0
      },
      "text/plain": [
       "  0%|          | 0/954 [00:00<?, ?it/s]"
      ]
     },
     "metadata": {},
     "output_type": "display_data"
    },
    {
     "name": "stdout",
     "output_type": "stream",
     "text": [
      "blur\n",
      "prec 0.9805263157894732, rec 0.9114481409001953, f2 0.9447261663281007\n",
      "demoir\n",
      "prec 0.8630382775119613, rec 0.9619999999999994, f2 0.9098360655732713\n",
      "haze\n",
      "prec 0.9685990338164244, rec 0.7203592814371254, f2 0.826236263735774\n",
      "rain\n",
      "prec 0.8318132068588103, rec 0.9440993788819873, f2 0.8844065166790982\n",
      "Epoch [4], last_lr: 0.0008, train_loss: 0.0729, val_loss: 0.4271, val_score: 0.8942, val_score_blur: 0.9447, val_score_demoir: 0.9098, val_score_haze: 0.8262, val_score_rain: 0.8844\n"
     ]
    },
    {
     "data": {
      "application/vnd.jupyter.widget-view+json": {
       "model_id": "7e7b8fb9497348dc81fbd4b09ff4c5bf",
       "version_major": 2,
       "version_minor": 0
      },
      "text/plain": [
       "  0%|          | 0/7554 [00:00<?, ?it/s]"
      ]
     },
     "metadata": {},
     "output_type": "display_data"
    },
    {
     "data": {
      "application/vnd.jupyter.widget-view+json": {
       "model_id": "a3509227b67b4f838b87568c4ce493aa",
       "version_major": 2,
       "version_minor": 0
      },
      "text/plain": [
       "  0%|          | 0/954 [00:00<?, ?it/s]"
      ]
     },
     "metadata": {},
     "output_type": "display_data"
    },
    {
     "name": "stdout",
     "output_type": "stream",
     "text": [
      "blur\n",
      "prec 0.9868073878627963, rec 0.9148727984344419, f2 0.9494795633404497\n",
      "demoir\n",
      "prec 0.9599092284417543, rec 0.8459999999999995, f2 0.8993621544998558\n",
      "haze\n",
      "prec 0.9716828478964394, rec 0.7191616766467062, f2 0.8265657260834748\n",
      "rain\n",
      "prec 0.7929427430093207, rec 0.9863354037267077, f2 0.8791289905881751\n",
      "Epoch [5], last_lr: 0.0006, train_loss: 0.0677, val_loss: 1.2830, val_score: 0.8912, val_score_blur: 0.9495, val_score_demoir: 0.8994, val_score_haze: 0.8266, val_score_rain: 0.8791\n"
     ]
    },
    {
     "data": {
      "application/vnd.jupyter.widget-view+json": {
       "model_id": "9a6705b3ed254eff92b2640c2f9ebcf2",
       "version_major": 2,
       "version_minor": 0
      },
      "text/plain": [
       "  0%|          | 0/7554 [00:00<?, ?it/s]"
      ]
     },
     "metadata": {},
     "output_type": "display_data"
    },
    {
     "data": {
      "application/vnd.jupyter.widget-view+json": {
       "model_id": "9baf79d1b77c4bdea29fae5b32345fd9",
       "version_major": 2,
       "version_minor": 0
      },
      "text/plain": [
       "  0%|          | 0/954 [00:00<?, ?it/s]"
      ]
     },
     "metadata": {},
     "output_type": "display_data"
    },
    {
     "name": "stdout",
     "output_type": "stream",
     "text": [
      "blur\n",
      "prec 0.9659147869674181, rec 0.9427592954990212, f2 0.9541965833122008\n",
      "demoir\n",
      "prec 0.9371584699453546, rec 0.9146666666666661, f2 0.9257759784070567\n",
      "haze\n",
      "prec 0.9950248756218898, rec 0.7185628742514966, f2 0.8344923504862996\n",
      "rain\n",
      "prec 0.820070422535211, rec 0.964389233954451, f2 0.886393910560873\n",
      "Epoch [6], last_lr: 0.0004, train_loss: 0.0590, val_loss: 0.6858, val_score: 0.9023, val_score_blur: 0.9542, val_score_demoir: 0.9258, val_score_haze: 0.8345, val_score_rain: 0.8864\n"
     ]
    },
    {
     "data": {
      "application/vnd.jupyter.widget-view+json": {
       "model_id": "f14fa1d55b7b459490a905125fef58e8",
       "version_major": 2,
       "version_minor": 0
      },
      "text/plain": [
       "  0%|          | 0/7554 [00:00<?, ?it/s]"
      ]
     },
     "metadata": {},
     "output_type": "display_data"
    },
    {
     "data": {
      "application/vnd.jupyter.widget-view+json": {
       "model_id": "0e19e4545d1042cdbc3490c05439c5c3",
       "version_major": 2,
       "version_minor": 0
      },
      "text/plain": [
       "  0%|          | 0/954 [00:00<?, ?it/s]"
      ]
     },
     "metadata": {},
     "output_type": "display_data"
    },
    {
     "name": "stdout",
     "output_type": "stream",
     "text": [
      "blur\n",
      "prec 0.9698189134808849, rec 0.9432485322896278, f2 0.9563492063487059\n",
      "demoir\n",
      "prec 0.9565543071161042, rec 0.8513333333333328, f2 0.9008818342146687\n",
      "haze\n",
      "prec 0.9991673605328885, rec 0.7185628742514966, f2 0.8359456635313832\n",
      "rain\n",
      "prec 0.7940099833610647, rec 0.9879917184265007, f2 0.8804428044275499\n",
      "Epoch [7], last_lr: 0.0002, train_loss: 0.0507, val_loss: 1.3105, val_score: 0.8960, val_score_blur: 0.9563, val_score_demoir: 0.9009, val_score_haze: 0.8359, val_score_rain: 0.8804\n"
     ]
    },
    {
     "data": {
      "application/vnd.jupyter.widget-view+json": {
       "model_id": "8a6ed4bf76f04d19bce85f8369748fa7",
       "version_major": 2,
       "version_minor": 0
      },
      "text/plain": [
       "  0%|          | 0/7554 [00:00<?, ?it/s]"
      ]
     },
     "metadata": {},
     "output_type": "display_data"
    },
    {
     "data": {
      "application/vnd.jupyter.widget-view+json": {
       "model_id": "5ddcc0ccc6c84487b3e6d39a268fd06a",
       "version_major": 2,
       "version_minor": 0
      },
      "text/plain": [
       "  0%|          | 0/954 [00:00<?, ?it/s]"
      ]
     },
     "metadata": {},
     "output_type": "display_data"
    },
    {
     "name": "stdout",
     "output_type": "stream",
     "text": [
      "blur\n",
      "prec 0.9807789580171973, rec 0.9486301369863009, f2 0.9644367072862443\n",
      "demoir\n",
      "prec 0.9615658362989318, rec 0.9006666666666662, f2 0.9301204819272108\n",
      "haze\n",
      "prec 0.9991673605328885, rec 0.7185628742514966, f2 0.8359456635313832\n",
      "rain\n",
      "prec 0.8098949508641136, rec 0.9896480331262936, f2 0.8907938874389381\n",
      "Epoch [8], last_lr: 0.0000, train_loss: 0.0458, val_loss: 0.9534, val_score: 0.9075, val_score_blur: 0.9644, val_score_demoir: 0.9301, val_score_haze: 0.8359, val_score_rain: 0.8908\n"
     ]
    },
    {
     "data": {
      "application/vnd.jupyter.widget-view+json": {
       "model_id": "76378f5d35af476aa7fa7a1f65f7b8be",
       "version_major": 2,
       "version_minor": 0
      },
      "text/plain": [
       "  0%|          | 0/7554 [00:00<?, ?it/s]"
      ]
     },
     "metadata": {},
     "output_type": "display_data"
    },
    {
     "data": {
      "application/vnd.jupyter.widget-view+json": {
       "model_id": "524146f0e822491780da299c5e1e5120",
       "version_major": 2,
       "version_minor": 0
      },
      "text/plain": [
       "  0%|          | 0/954 [00:00<?, ?it/s]"
      ]
     },
     "metadata": {},
     "output_type": "display_data"
    },
    {
     "name": "stdout",
     "output_type": "stream",
     "text": [
      "blur\n",
      "prec 0.9720528455284548, rec 0.935909980430528, f2 0.9536390827512444\n",
      "demoir\n",
      "prec 0.9478707782672534, rec 0.8606666666666661, f2 0.9021663172601575\n",
      "haze\n",
      "prec 0.9991673605328885, rec 0.7185628742514966, f2 0.8359456635313832\n",
      "rain\n",
      "prec 0.8006002000666886, rec 0.9942028985507243, f2 0.8869597340224091\n",
      "Epoch [9], last_lr: 0.0000, train_loss: 0.0429, val_loss: 1.2365, val_score: 0.8978, val_score_blur: 0.9536, val_score_demoir: 0.9022, val_score_haze: 0.8359, val_score_rain: 0.8870\n"
     ]
    }
   ],
   "source": [
    "history += fit_one_cycle(epochs, max_lr, model, train_dl, val_dl,\n",
    "                         weight_decay=weight_decay, \n",
    "                         opt_func=opt_func)\n",
    "history += fit_one_cycle(epochs, max_lr, model, train_dl, val_dl,\n",
    "                         weight_decay=weight_decay, \n",
    "                         opt_func=opt_func)\n",
    "history += fit_one_cycle(epochs, max_lr, model, train_dl, val_dl,\n",
    "                         weight_decay=weight_decay, \n",
    "                         opt_func=opt_func)\n",
    "history += fit_one_cycle(epochs, max_lr, model, train_dl, val_dl,\n",
    "                         weight_decay=weight_decay, \n",
    "                         opt_func=opt_func)"
   ]
  },
  {
   "cell_type": "code",
   "execution_count": 95,
   "metadata": {
    "tags": []
   },
   "outputs": [
    {
     "data": {
      "application/vnd.jupyter.widget-view+json": {
       "model_id": "1315501b8fb4480d99347c38401b997a",
       "version_major": 2,
       "version_minor": 0
      },
      "text/plain": [
       "  0%|          | 0/954 [00:00<?, ?it/s]"
      ]
     },
     "metadata": {},
     "output_type": "display_data"
    },
    {
     "name": "stdout",
     "output_type": "stream",
     "text": [
      "blur\n",
      "prec 0.9720528455284548, rec 0.935909980430528, f2 0.9536390827512444\n",
      "demoir\n",
      "prec 0.9478707782672534, rec 0.8606666666666661, f2 0.9021663172601575\n",
      "haze\n",
      "prec 0.9991673605328885, rec 0.7185628742514966, f2 0.8359456635313832\n",
      "rain\n",
      "prec 0.8006002000666886, rec 0.9942028985507243, f2 0.8869597340224091\n"
     ]
    },
    {
     "data": {
      "text/plain": [
       "{'val_loss': 1.2365151643753052,\n",
       " 'val_score': 0.897816478659042,\n",
       " 'val_score_blur': 0.9536390827512444,\n",
       " 'val_score_haze': 0.8359456635313832,\n",
       " 'val_score_rain': 0.8869597340224091,\n",
       " 'val_score_demoir': 0.9021663172601575}"
      ]
     },
     "execution_count": 95,
     "metadata": {},
     "output_type": "execute_result"
    }
   ],
   "source": [
    "evaluate(model, val_dl)"
   ]
  },
  {
   "cell_type": "code",
   "execution_count": 99,
   "metadata": {
    "tags": []
   },
   "outputs": [
    {
     "name": "stderr",
     "output_type": "stream",
     "text": [
      "Clipping input data to the valid range for imshow with RGB data ([0..1] for floats or [0..255] for integers).\n"
     ]
    },
    {
     "name": "stdout",
     "output_type": "stream",
     "text": [
      "Label: blur\n",
      "mask: blur\n",
      "\n",
      "tensor([9.9817e-01, 1.5508e-03, 4.0754e-05, 1.3900e-04], device='cuda:0',\n",
      "       grad_fn=<SelectBackward0>)\n"
     ]
    },
    {
     "data": {
      "image/png": "[encoded data removed]",
      "text/plain": [
       "<Figure size 640x480 with 1 Axes>"
      ]
     },
     "metadata": {},
     "output_type": "display_data"
    }
   ],
   "source": [
    "def predict_single(image, label, mask):\n",
    "    xb = image.unsqueeze(0)\n",
    "    xb = to_device(xb, device)\n",
    "    preds = model(xb)\n",
    "    prediction = preds[0]\n",
    "    show_example(image, prediction, mask)\n",
    "predict_single(*val_dataset[1500])"
   ]
  },
  {
   "cell_type": "code",
   "execution_count": 101,
   "metadata": {},
   "outputs": [
    {
     "data": {
      "text/plain": [
       "'../data/test/blur/clear_gt/real_blur/gt_491.png'"
      ]
     },
     "execution_count": 101,
     "metadata": {},
     "output_type": "execute_result"
    }
   ],
   "source": [
    "val_dataset.im_path(1500)"
   ]
  },
  {
   "cell_type": "code",
   "execution_count": null,
   "metadata": {
    "tags": []
   },
   "outputs": [],
   "source": [
    "for i, data in enumerate(val_dataset):\n",
    "    image = data[0]\n",
    "    xb = image.unsqueeze(0)\n",
    "    xb = to_device(xb, device)\n",
    "    preds = model(xb)\n",
    "    prediction = preds[0]\n",
    "    pred_label = decode_target(prediction)\n",
    "    tar_label = decode_target(data[1])\n",
    "    if pred_label != tar_label:\n",
    "        print(i)"
   ]
  },
  {
   "cell_type": "code",
   "execution_count": 105,
   "metadata": {
    "tags": []
   },
   "outputs": [
    {
     "name": "stderr",
     "output_type": "stream",
     "text": [
      "Clipping input data to the valid range for imshow with RGB data ([0..1] for floats or [0..255] for integers).\n"
     ]
    },
    {
     "name": "stdout",
     "output_type": "stream",
     "text": [
      "Label: blur\n",
      "mask: blur\n",
      "\n",
      "tensor([9.9686e-01, 3.0953e-03, 8.0210e-05, 1.0463e-04], device='cuda:0',\n",
      "       grad_fn=<SelectBackward0>)\n"
     ]
    },
    {
     "data": {
      "image/png": "[encoded data removed]",
      "text/plain": [
       "<Figure size 640x480 with 1 Axes>"
      ]
     },
     "metadata": {},
     "output_type": "display_data"
    }
   ],
   "source": [
    "predict_single(*val_dataset[1258])"
   ]
  },
  {
   "cell_type": "code",
   "execution_count": 106,
   "metadata": {},
   "outputs": [
    {
     "data": {
      "text/plain": [
       "'../data/test/blur/clear_gt/real_blur/gt_273.png'"
      ]
     },
     "execution_count": 106,
     "metadata": {},
     "output_type": "execute_result"
    }
   ],
   "source": [
    "val_dataset.im_path(1258)"
   ]
  },
  {
   "cell_type": "code",
   "execution_count": 107,
   "metadata": {
    "tags": []
   },
   "outputs": [
    {
     "name": "stderr",
     "output_type": "stream",
     "text": [
      "Clipping input data to the valid range for imshow with RGB data ([0..1] for floats or [0..255] for integers).\n"
     ]
    },
    {
     "name": "stdout",
     "output_type": "stream",
     "text": [
      "Label: clear\n",
      "mask: blur\n",
      "\n",
      "tensor([0., 0., 0., 0.])\n"
     ]
    },
    {
     "data": {
      "image/png": "[encoded data removed]",
      "text/plain": [
       "<Figure size 640x480 with 1 Axes>"
      ]
     },
     "metadata": {},
     "output_type": "display_data"
    }
   ],
   "source": [
    "show_example(*val_dataset[1258])"
   ]
  },
  {
   "cell_type": "code",
   "execution_count": 108,
   "metadata": {
    "id": "VwMO-MuElBrz"
   },
   "outputs": [
    {
     "data": {
      "image/png": "[encoded data removed]",
      "text/plain": [
       "<Figure size 640x480 with 1 Axes>"
      ]
     },
     "metadata": {},
     "output_type": "display_data"
    }
   ],
   "source": [
    "def plot_scores(history):\n",
    "    scores = [x['val_score'] for x in history]\n",
    "    plt.plot(scores, '-x')\n",
    "    plt.xlabel('epoch')\n",
    "    plt.ylabel('score')\n",
    "    plt.title('F1 score vs. No. of epochs');\n",
    "plot_scores(history)"
   ]
  },
  {
   "cell_type": "code",
   "execution_count": null,
   "metadata": {
    "id": "vr2mmUBLlFWz"
   },
   "outputs": [],
   "source": [
    "def plot_losses(history):\n",
    "    train_losses = [x.get('train_loss') for x in history]\n",
    "    val_losses = [x['val_loss'] for x in history]\n",
    "    plt.plot(train_losses, '-bx')\n",
    "    plt.plot(val_losses, '-rx')\n",
    "    plt.xlabel('epoch')\n",
    "    plt.ylabel('loss')\n",
    "    plt.legend(['Training', 'Validation'])\n",
    "    plt.title('Loss vs. No. of epochs');\n",
    "    \n",
    "plot_losses(history)"
   ]
  },
  {
   "cell_type": "code",
   "execution_count": null,
   "metadata": {},
   "outputs": [],
   "source": [
    "def plot_scores(history):\n",
    "    scores = [x['val_score_blur'] for x in history]\n",
    "    plt.plot(scores, '-x')\n",
    "    plt.xlabel('epoch')\n",
    "    plt.ylabel('score')\n",
    "    plt.title('F1 score Blur vs. No. of epochs');\n",
    "plot_scores(history)"
   ]
  },
  {
   "cell_type": "code",
   "execution_count": null,
   "metadata": {},
   "outputs": [],
   "source": [
    "def plot_scores(history):\n",
    "    scores = [x['val_score_demoir'] for x in history]\n",
    "    plt.plot(scores, '-x')\n",
    "    plt.xlabel('epoch')\n",
    "    plt.ylabel('score')\n",
    "    plt.title('F1 score Moire vs. No. of epochs');\n",
    "plot_scores(history)"
   ]
  },
  {
   "cell_type": "code",
   "execution_count": null,
   "metadata": {},
   "outputs": [],
   "source": [
    "def plot_scores(history):\n",
    "    scores = [x['val_score_haze'] for x in history]\n",
    "    plt.plot(scores, '-x')\n",
    "    plt.xlabel('epoch')\n",
    "    plt.ylabel('score')\n",
    "    plt.title('F1 score Haze vs. No. of epochs');\n",
    "plot_scores(history)"
   ]
  },
  {
   "cell_type": "code",
   "execution_count": null,
   "metadata": {},
   "outputs": [],
   "source": [
    "def plot_scores(history):\n",
    "    scores = [x['val_score_rain'] for x in history]\n",
    "    plt.plot(scores, '-x')\n",
    "    plt.xlabel('epoch')\n",
    "    plt.ylabel('score')\n",
    "    plt.title('F1 score Rain vs. No. of epochs');\n",
    "plot_scores(history)"
   ]
  },
  {
   "cell_type": "code",
   "execution_count": null,
   "metadata": {
    "id": "RurRuSTYlGTY"
   },
   "outputs": [],
   "source": [
    "def plot_lrs(history):\n",
    "    lrs = np.concatenate([x.get('lrs', []) for x in history])\n",
    "    plt.plot(lrs)\n",
    "    plt.xlabel('Batch no.')\n",
    "    plt.ylabel('Learning rate')\n",
    "    plt.title('Learning Rate vs. Batch no.');\n",
    "plot_lrs(history)"
   ]
  },
  {
   "cell_type": "code",
   "execution_count": null,
   "metadata": {
    "id": "ivOuZtbblLHc"
   },
   "outputs": [],
   "source": [
    "def random_image_prediction(url): #This function is to see the predictions of random images from internet.\n",
    "    image_url = requests.get(url, stream = True).raw\n",
    "    image = Image.open(image_url)\n",
    "    image_tensor = val_trans(image).unsqueeze(0)\n",
    "    img = to_device(image_tensor, device)\n",
    "    preds = model(img)\n",
    "    prediction = preds[0]\n",
    "    print(\"Prediction:\")\n",
    "    print(\"Tensor: \", prediction)\n",
    "    print()\n",
    "    print(\"Label:\", decode_target(prediction))\n",
    "    plt.imshow(image)"
   ]
  },
  {
   "cell_type": "code",
   "execution_count": null,
   "metadata": {},
   "outputs": [],
   "source": [
    "random_image_prediction('https://static.toiimg.com/thumb/msid-88217291,width-400,resizemode-4/88217291.jpg')"
   ]
  },
  {
   "cell_type": "code",
   "execution_count": null,
   "metadata": {},
   "outputs": [],
   "source": [
    "random_image_prediction('https://metro.co.uk/wp-content/uploads/2018/06/gettyimages-682966492.jpg?quality=90&strip=all')"
   ]
  },
  {
   "cell_type": "code",
   "execution_count": null,
   "metadata": {},
   "outputs": [],
   "source": [
    "random_image_prediction('https://www.envirostraw.com.au/wp-content/uploads/2022/08/ES-rain-soil-01.jpg')"
   ]
  },
  {
   "cell_type": "code",
   "execution_count": null,
   "metadata": {},
   "outputs": [],
   "source": [
    "def predict_single(image):\n",
    "    xb = image.unsqueeze(0)\n",
    "    xb = to_device(xb, device)\n",
    "    preds = model(xb)\n",
    "    prediction = preds[0]\n",
    "    show_example(image, prediction)\n",
    "predict_single(val_dataset[3280][0]) #checking out the predictions of some images from the validation dataset."
   ]
  },
  {
   "cell_type": "code",
   "execution_count": null,
   "metadata": {},
   "outputs": [],
   "source": [
    "show_example(*val_dataset[3280]) #checking out the predictions of some images from the validation dataset."
   ]
  },
  {
   "cell_type": "code",
   "execution_count": null,
   "metadata": {
    "tags": []
   },
   "outputs": [],
   "source": [
    "PATH = os.path.join('saved_models', datetime.now().strftime('mobilenetv2_customBCE_new_metrics_clear_gt_not_pretrained_14_05_23.pt'))\n",
    "torch.save(model.state_dict(), PATH)"
   ]
  },
  {
   "cell_type": "code",
   "execution_count": null,
   "metadata": {},
   "outputs": [],
   "source": [
    "loaded_model = CustomModel().to(device)"
   ]
  },
  {
   "cell_type": "code",
   "execution_count": null,
   "metadata": {},
   "outputs": [],
   "source": [
    "loaded_model.load_state_dict(torch.load('saved_models/mobilenetv2_customBCE_new_metrics_not_pretrained_13_05_23.pt'))"
   ]
  },
  {
   "cell_type": "code",
   "execution_count": null,
   "metadata": {
    "tags": []
   },
   "outputs": [],
   "source": [
    "loaded_model.to(device)"
   ]
  },
  {
   "cell_type": "code",
   "execution_count": null,
   "metadata": {
    "tags": []
   },
   "outputs": [],
   "source": [
    "loaded_model.eval()"
   ]
  },
  {
   "cell_type": "code",
   "execution_count": null,
   "metadata": {},
   "outputs": [],
   "source": []
  }
 ],
 "metadata": {
  "accelerator": "GPU",
  "colab": {
   "authorship_tag": "ABX9TyPyBvgccbt9WNXUa/xn809X",
   "provenance": []
  },
  "gpuClass": "premium",
  "kernelspec": {
   "display_name": "Python 3 (ipykernel)",
   "language": "python",
   "name": "python3"
  },
  "language_info": {
   "codemirror_mode": {
    "name": "ipython",
    "version": 3
   },
   "file_extension": ".py",
   "mimetype": "text/x-python",
   "name": "python",
   "nbconvert_exporter": "python",
   "pygments_lexer": "ipython3",
   "version": "3.8.10"
  },
  "widgets": {
   "application/vnd.jupyter.widget-state+json": {
    "0668b90437084ace88679c19924231bb": {
     "model_module": "@jupyter-widgets/controls",
     "model_module_version": "1.5.0",
     "model_name": "HTMLModel",
     "state": {
      "_dom_classes": [],
      "_model_module": "@jupyter-widgets/controls",
      "_model_module_version": "1.5.0",
      "_model_name": "HTMLModel",
      "_view_count": null,
      "_view_module": "@jupyter-widgets/controls",
      "_view_module_version": "1.5.0",
      "_view_name": "HTMLView",
      "description": "",
      "description_tooltip": null,
      "layout": "IPY_MODEL_94e36ab86a8e46c6b2509dec1218ab6d",
      "placeholder": "​",
      "style": "IPY_MODEL_dc366bfed5024076b9200ca158058867",
      "value": "100%"
     }
    },
    "08e70ae7b5fb408690fe9b27f96450c8": {
     "model_module": "@jupyter-widgets/controls",
     "model_module_version": "1.5.0",
     "model_name": "FloatProgressModel",
     "state": {
      "_dom_classes": [],
      "_model_module": "@jupyter-widgets/controls",
      "_model_module_version": "1.5.0",
      "_model_name": "FloatProgressModel",
      "_view_count": null,
      "_view_module": "@jupyter-widgets/controls",
      "_view_module_version": "1.5.0",
      "_view_name": "ProgressView",
      "bar_style": "success",
      "description": "",
      "description_tooltip": null,
      "layout": "IPY_MODEL_85e55bcdbc20490c817a829e1fa12839",
      "max": 538,
      "min": 0,
      "orientation": "horizontal",
      "style": "IPY_MODEL_31442031502d45f192681a21c2af3b47",
      "value": 538
     }
    },
    "0f58b1b8af894fa0990cc39d4f0eb2c8": {
     "model_module": "@jupyter-widgets/controls",
     "model_module_version": "1.5.0",
     "model_name": "HTMLModel",
     "state": {
      "_dom_classes": [],
      "_model_module": "@jupyter-widgets/controls",
      "_model_module_version": "1.5.0",
      "_model_name": "HTMLModel",
      "_view_count": null,
      "_view_module": "@jupyter-widgets/controls",
      "_view_module_version": "1.5.0",
      "_view_name": "HTMLView",
      "description": "",
      "description_tooltip": null,
      "layout": "IPY_MODEL_80aa9a060efe40659f88d7e673a7e0b6",
      "placeholder": "​",
      "style": "IPY_MODEL_84a566e98f5a4cc3b39efacea2640153",
      "value": "100%"
     }
    },
    "117e6bc1ddda4eceb946a67fd0c8c2a7": {
     "model_module": "@jupyter-widgets/controls",
     "model_module_version": "1.5.0",
     "model_name": "HTMLModel",
     "state": {
      "_dom_classes": [],
      "_model_module": "@jupyter-widgets/controls",
      "_model_module_version": "1.5.0",
      "_model_name": "HTMLModel",
      "_view_count": null,
      "_view_module": "@jupyter-widgets/controls",
      "_view_module_version": "1.5.0",
      "_view_name": "HTMLView",
      "description": "",
      "description_tooltip": null,
      "layout": "IPY_MODEL_3efe51d805d941eba6d26a70abf92e4a",
      "placeholder": "​",
      "style": "IPY_MODEL_b9ae477e3e4e468897b32e818b830ea9",
      "value": " 538/538 [09:39&lt;00:00,  1.54it/s]"
     }
    },
    "1398ff9b39b845698e41344cc7d676c8": {
     "model_module": "@jupyter-widgets/controls",
     "model_module_version": "1.5.0",
     "model_name": "DescriptionStyleModel",
     "state": {
      "_model_module": "@jupyter-widgets/controls",
      "_model_module_version": "1.5.0",
      "_model_name": "DescriptionStyleModel",
      "_view_count": null,
      "_view_module": "@jupyter-widgets/base",
      "_view_module_version": "1.2.0",
      "_view_name": "StyleView",
      "description_width": ""
     }
    },
    "19f3449c655b49cea74723240eddf5e5": {
     "model_module": "@jupyter-widgets/controls",
     "model_module_version": "1.5.0",
     "model_name": "DescriptionStyleModel",
     "state": {
      "_model_module": "@jupyter-widgets/controls",
      "_model_module_version": "1.5.0",
      "_model_name": "DescriptionStyleModel",
      "_view_count": null,
      "_view_module": "@jupyter-widgets/base",
      "_view_module_version": "1.2.0",
      "_view_name": "StyleView",
      "description_width": ""
     }
    },
    "2792664588294039b03c605d0c6793e4": {
     "model_module": "@jupyter-widgets/controls",
     "model_module_version": "1.5.0",
     "model_name": "DescriptionStyleModel",
     "state": {
      "_model_module": "@jupyter-widgets/controls",
      "_model_module_version": "1.5.0",
      "_model_name": "DescriptionStyleModel",
      "_view_count": null,
      "_view_module": "@jupyter-widgets/base",
      "_view_module_version": "1.2.0",
      "_view_name": "StyleView",
      "description_width": ""
     }
    },
    "31442031502d45f192681a21c2af3b47": {
     "model_module": "@jupyter-widgets/controls",
     "model_module_version": "1.5.0",
     "model_name": "ProgressStyleModel",
     "state": {
      "_model_module": "@jupyter-widgets/controls",
      "_model_module_version": "1.5.0",
      "_model_name": "ProgressStyleModel",
      "_view_count": null,
      "_view_module": "@jupyter-widgets/base",
      "_view_module_version": "1.2.0",
      "_view_name": "StyleView",
      "bar_color": null,
      "description_width": ""
     }
    },
    "3efe51d805d941eba6d26a70abf92e4a": {
     "model_module": "@jupyter-widgets/base",
     "model_module_version": "1.2.0",
     "model_name": "LayoutModel",
     "state": {
      "_model_module": "@jupyter-widgets/base",
      "_model_module_version": "1.2.0",
      "_model_name": "LayoutModel",
      "_view_count": null,
      "_view_module": "@jupyter-widgets/base",
      "_view_module_version": "1.2.0",
      "_view_name": "LayoutView",
      "align_content": null,
      "align_items": null,
      "align_self": null,
      "border": null,
      "bottom": null,
      "display": null,
      "flex": null,
      "flex_flow": null,
      "grid_area": null,
      "grid_auto_columns": null,
      "grid_auto_flow": null,
      "grid_auto_rows": null,
      "grid_column": null,
      "grid_gap": null,
      "grid_row": null,
      "grid_template_areas": null,
      "grid_template_columns": null,
      "grid_template_rows": null,
      "height": null,
      "justify_content": null,
      "justify_items": null,
      "left": null,
      "margin": null,
      "max_height": null,
      "max_width": null,
      "min_height": null,
      "min_width": null,
      "object_fit": null,
      "object_position": null,
      "order": null,
      "overflow": null,
      "overflow_x": null,
      "overflow_y": null,
      "padding": null,
      "right": null,
      "top": null,
      "visibility": null,
      "width": null
     }
    },
    "44377bf23247413ead447c75872d350b": {
     "model_module": "@jupyter-widgets/base",
     "model_module_version": "1.2.0",
     "model_name": "LayoutModel",
     "state": {
      "_model_module": "@jupyter-widgets/base",
      "_model_module_version": "1.2.0",
      "_model_name": "LayoutModel",
      "_view_count": null,
      "_view_module": "@jupyter-widgets/base",
      "_view_module_version": "1.2.0",
      "_view_name": "LayoutView",
      "align_content": null,
      "align_items": null,
      "align_self": null,
      "border": null,
      "bottom": null,
      "display": null,
      "flex": null,
      "flex_flow": null,
      "grid_area": null,
      "grid_auto_columns": null,
      "grid_auto_flow": null,
      "grid_auto_rows": null,
      "grid_column": null,
      "grid_gap": null,
      "grid_row": null,
      "grid_template_areas": null,
      "grid_template_columns": null,
      "grid_template_rows": null,
      "height": null,
      "justify_content": null,
      "justify_items": null,
      "left": null,
      "margin": null,
      "max_height": null,
      "max_width": null,
      "min_height": null,
      "min_width": null,
      "object_fit": null,
      "object_position": null,
      "order": null,
      "overflow": null,
      "overflow_x": null,
      "overflow_y": null,
      "padding": null,
      "right": null,
      "top": null,
      "visibility": null,
      "width": null
     }
    },
    "488d2c3b99f643fdb364d44f11ed6d32": {
     "model_module": "@jupyter-widgets/base",
     "model_module_version": "1.2.0",
     "model_name": "LayoutModel",
     "state": {
      "_model_module": "@jupyter-widgets/base",
      "_model_module_version": "1.2.0",
      "_model_name": "LayoutModel",
      "_view_count": null,
      "_view_module": "@jupyter-widgets/base",
      "_view_module_version": "1.2.0",
      "_view_name": "LayoutView",
      "align_content": null,
      "align_items": null,
      "align_self": null,
      "border": null,
      "bottom": null,
      "display": null,
      "flex": null,
      "flex_flow": null,
      "grid_area": null,
      "grid_auto_columns": null,
      "grid_auto_flow": null,
      "grid_auto_rows": null,
      "grid_column": null,
      "grid_gap": null,
      "grid_row": null,
      "grid_template_areas": null,
      "grid_template_columns": null,
      "grid_template_rows": null,
      "height": null,
      "justify_content": null,
      "justify_items": null,
      "left": null,
      "margin": null,
      "max_height": null,
      "max_width": null,
      "min_height": null,
      "min_width": null,
      "object_fit": null,
      "object_position": null,
      "order": null,
      "overflow": null,
      "overflow_x": null,
      "overflow_y": null,
      "padding": null,
      "right": null,
      "top": null,
      "visibility": null,
      "width": null
     }
    },
    "48ebdd627a5f4aed83581347dca942b1": {
     "model_module": "@jupyter-widgets/controls",
     "model_module_version": "1.5.0",
     "model_name": "DescriptionStyleModel",
     "state": {
      "_model_module": "@jupyter-widgets/controls",
      "_model_module_version": "1.5.0",
      "_model_name": "DescriptionStyleModel",
      "_view_count": null,
      "_view_module": "@jupyter-widgets/base",
      "_view_module_version": "1.2.0",
      "_view_name": "StyleView",
      "description_width": ""
     }
    },
    "49cd8478dd4b4a71b2e3117f695a9970": {
     "model_module": "@jupyter-widgets/controls",
     "model_module_version": "1.5.0",
     "model_name": "FloatProgressModel",
     "state": {
      "_dom_classes": [],
      "_model_module": "@jupyter-widgets/controls",
      "_model_module_version": "1.5.0",
      "_model_name": "FloatProgressModel",
      "_view_count": null,
      "_view_module": "@jupyter-widgets/controls",
      "_view_module_version": "1.5.0",
      "_view_name": "ProgressView",
      "bar_style": "success",
      "description": "",
      "description_tooltip": null,
      "layout": "IPY_MODEL_488d2c3b99f643fdb364d44f11ed6d32",
      "max": 69,
      "min": 0,
      "orientation": "horizontal",
      "style": "IPY_MODEL_dbcf288cfa5344c3bc3c35c87dd22108",
      "value": 69
     }
    },
    "5273a84f657f4e6ebd034591ab36025e": {
     "model_module": "@jupyter-widgets/controls",
     "model_module_version": "1.5.0",
     "model_name": "FloatProgressModel",
     "state": {
      "_dom_classes": [],
      "_model_module": "@jupyter-widgets/controls",
      "_model_module_version": "1.5.0",
      "_model_name": "FloatProgressModel",
      "_view_count": null,
      "_view_module": "@jupyter-widgets/controls",
      "_view_module_version": "1.5.0",
      "_view_name": "ProgressView",
      "bar_style": "",
      "description": "",
      "description_tooltip": null,
      "layout": "IPY_MODEL_bd8850b98cc8417fad91759a8afd0662",
      "max": 538,
      "min": 0,
      "orientation": "horizontal",
      "style": "IPY_MODEL_6a3e079a006145419823dc673e6f2156",
      "value": 27
     }
    },
    "528c11ac66ae48ee986ed8ce95706900": {
     "model_module": "@jupyter-widgets/controls",
     "model_module_version": "1.5.0",
     "model_name": "HTMLModel",
     "state": {
      "_dom_classes": [],
      "_model_module": "@jupyter-widgets/controls",
      "_model_module_version": "1.5.0",
      "_model_name": "HTMLModel",
      "_view_count": null,
      "_view_module": "@jupyter-widgets/controls",
      "_view_module_version": "1.5.0",
      "_view_name": "HTMLView",
      "description": "",
      "description_tooltip": null,
      "layout": "IPY_MODEL_5e093f2d6416433ca9b05d55fe931cea",
      "placeholder": "​",
      "style": "IPY_MODEL_2792664588294039b03c605d0c6793e4",
      "value": "100%"
     }
    },
    "549299e9122b4331ba8d33a3153ed32b": {
     "model_module": "@jupyter-widgets/base",
     "model_module_version": "1.2.0",
     "model_name": "LayoutModel",
     "state": {
      "_model_module": "@jupyter-widgets/base",
      "_model_module_version": "1.2.0",
      "_model_name": "LayoutModel",
      "_view_count": null,
      "_view_module": "@jupyter-widgets/base",
      "_view_module_version": "1.2.0",
      "_view_name": "LayoutView",
      "align_content": null,
      "align_items": null,
      "align_self": null,
      "border": null,
      "bottom": null,
      "display": null,
      "flex": null,
      "flex_flow": null,
      "grid_area": null,
      "grid_auto_columns": null,
      "grid_auto_flow": null,
      "grid_auto_rows": null,
      "grid_column": null,
      "grid_gap": null,
      "grid_row": null,
      "grid_template_areas": null,
      "grid_template_columns": null,
      "grid_template_rows": null,
      "height": null,
      "justify_content": null,
      "justify_items": null,
      "left": null,
      "margin": null,
      "max_height": null,
      "max_width": null,
      "min_height": null,
      "min_width": null,
      "object_fit": null,
      "object_position": null,
      "order": null,
      "overflow": null,
      "overflow_x": null,
      "overflow_y": null,
      "padding": null,
      "right": null,
      "top": null,
      "visibility": null,
      "width": null
     }
    },
    "5a2e9785f3c44983b538d5357941b556": {
     "model_module": "@jupyter-widgets/controls",
     "model_module_version": "1.5.0",
     "model_name": "HBoxModel",
     "state": {
      "_dom_classes": [],
      "_model_module": "@jupyter-widgets/controls",
      "_model_module_version": "1.5.0",
      "_model_name": "HBoxModel",
      "_view_count": null,
      "_view_module": "@jupyter-widgets/controls",
      "_view_module_version": "1.5.0",
      "_view_name": "HBoxView",
      "box_style": "",
      "children": [
       "IPY_MODEL_528c11ac66ae48ee986ed8ce95706900",
       "IPY_MODEL_7de23c42173b4313b7740255255e600d",
       "IPY_MODEL_f9bbc609aac04087bb050155950c1380"
      ],
      "layout": "IPY_MODEL_549299e9122b4331ba8d33a3153ed32b"
     }
    },
    "5e093f2d6416433ca9b05d55fe931cea": {
     "model_module": "@jupyter-widgets/base",
     "model_module_version": "1.2.0",
     "model_name": "LayoutModel",
     "state": {
      "_model_module": "@jupyter-widgets/base",
      "_model_module_version": "1.2.0",
      "_model_name": "LayoutModel",
      "_view_count": null,
      "_view_module": "@jupyter-widgets/base",
      "_view_module_version": "1.2.0",
      "_view_name": "LayoutView",
      "align_content": null,
      "align_items": null,
      "align_self": null,
      "border": null,
      "bottom": null,
      "display": null,
      "flex": null,
      "flex_flow": null,
      "grid_area": null,
      "grid_auto_columns": null,
      "grid_auto_flow": null,
      "grid_auto_rows": null,
      "grid_column": null,
      "grid_gap": null,
      "grid_row": null,
      "grid_template_areas": null,
      "grid_template_columns": null,
      "grid_template_rows": null,
      "height": null,
      "justify_content": null,
      "justify_items": null,
      "left": null,
      "margin": null,
      "max_height": null,
      "max_width": null,
      "min_height": null,
      "min_width": null,
      "object_fit": null,
      "object_position": null,
      "order": null,
      "overflow": null,
      "overflow_x": null,
      "overflow_y": null,
      "padding": null,
      "right": null,
      "top": null,
      "visibility": null,
      "width": null
     }
    },
    "64d7f495008b4e598eb95089a8c5940d": {
     "model_module": "@jupyter-widgets/controls",
     "model_module_version": "1.5.0",
     "model_name": "HTMLModel",
     "state": {
      "_dom_classes": [],
      "_model_module": "@jupyter-widgets/controls",
      "_model_module_version": "1.5.0",
      "_model_name": "HTMLModel",
      "_view_count": null,
      "_view_module": "@jupyter-widgets/controls",
      "_view_module_version": "1.5.0",
      "_view_name": "HTMLView",
      "description": "",
      "description_tooltip": null,
      "layout": "IPY_MODEL_9abb6dfde55841b695eff4c1f891e5c1",
      "placeholder": "​",
      "style": "IPY_MODEL_19f3449c655b49cea74723240eddf5e5",
      "value": "  5%"
     }
    },
    "6513d557687b4a7e94fa7a45e900d78f": {
     "model_module": "@jupyter-widgets/base",
     "model_module_version": "1.2.0",
     "model_name": "LayoutModel",
     "state": {
      "_model_module": "@jupyter-widgets/base",
      "_model_module_version": "1.2.0",
      "_model_name": "LayoutModel",
      "_view_count": null,
      "_view_module": "@jupyter-widgets/base",
      "_view_module_version": "1.2.0",
      "_view_name": "LayoutView",
      "align_content": null,
      "align_items": null,
      "align_self": null,
      "border": null,
      "bottom": null,
      "display": null,
      "flex": null,
      "flex_flow": null,
      "grid_area": null,
      "grid_auto_columns": null,
      "grid_auto_flow": null,
      "grid_auto_rows": null,
      "grid_column": null,
      "grid_gap": null,
      "grid_row": null,
      "grid_template_areas": null,
      "grid_template_columns": null,
      "grid_template_rows": null,
      "height": null,
      "justify_content": null,
      "justify_items": null,
      "left": null,
      "margin": null,
      "max_height": null,
      "max_width": null,
      "min_height": null,
      "min_width": null,
      "object_fit": null,
      "object_position": null,
      "order": null,
      "overflow": null,
      "overflow_x": null,
      "overflow_y": null,
      "padding": null,
      "right": null,
      "top": null,
      "visibility": null,
      "width": null
     }
    },
    "6a3e079a006145419823dc673e6f2156": {
     "model_module": "@jupyter-widgets/controls",
     "model_module_version": "1.5.0",
     "model_name": "ProgressStyleModel",
     "state": {
      "_model_module": "@jupyter-widgets/controls",
      "_model_module_version": "1.5.0",
      "_model_name": "ProgressStyleModel",
      "_view_count": null,
      "_view_module": "@jupyter-widgets/base",
      "_view_module_version": "1.2.0",
      "_view_name": "StyleView",
      "bar_color": null,
      "description_width": ""
     }
    },
    "6f533daa467249e584e02da4dcec0198": {
     "model_module": "@jupyter-widgets/base",
     "model_module_version": "1.2.0",
     "model_name": "LayoutModel",
     "state": {
      "_model_module": "@jupyter-widgets/base",
      "_model_module_version": "1.2.0",
      "_model_name": "LayoutModel",
      "_view_count": null,
      "_view_module": "@jupyter-widgets/base",
      "_view_module_version": "1.2.0",
      "_view_name": "LayoutView",
      "align_content": null,
      "align_items": null,
      "align_self": null,
      "border": null,
      "bottom": null,
      "display": null,
      "flex": null,
      "flex_flow": null,
      "grid_area": null,
      "grid_auto_columns": null,
      "grid_auto_flow": null,
      "grid_auto_rows": null,
      "grid_column": null,
      "grid_gap": null,
      "grid_row": null,
      "grid_template_areas": null,
      "grid_template_columns": null,
      "grid_template_rows": null,
      "height": null,
      "justify_content": null,
      "justify_items": null,
      "left": null,
      "margin": null,
      "max_height": null,
      "max_width": null,
      "min_height": null,
      "min_width": null,
      "object_fit": null,
      "object_position": null,
      "order": null,
      "overflow": null,
      "overflow_x": null,
      "overflow_y": null,
      "padding": null,
      "right": null,
      "top": null,
      "visibility": null,
      "width": null
     }
    },
    "7de23c42173b4313b7740255255e600d": {
     "model_module": "@jupyter-widgets/controls",
     "model_module_version": "1.5.0",
     "model_name": "FloatProgressModel",
     "state": {
      "_dom_classes": [],
      "_model_module": "@jupyter-widgets/controls",
      "_model_module_version": "1.5.0",
      "_model_name": "FloatProgressModel",
      "_view_count": null,
      "_view_module": "@jupyter-widgets/controls",
      "_view_module_version": "1.5.0",
      "_view_name": "ProgressView",
      "bar_style": "success",
      "description": "",
      "description_tooltip": null,
      "layout": "IPY_MODEL_44377bf23247413ead447c75872d350b",
      "max": 69,
      "min": 0,
      "orientation": "horizontal",
      "style": "IPY_MODEL_ae2166a86fe0405698898184f96c1644",
      "value": 69
     }
    },
    "7ea0a1f60efe40eaac8a10762d49db31": {
     "model_module": "@jupyter-widgets/base",
     "model_module_version": "1.2.0",
     "model_name": "LayoutModel",
     "state": {
      "_model_module": "@jupyter-widgets/base",
      "_model_module_version": "1.2.0",
      "_model_name": "LayoutModel",
      "_view_count": null,
      "_view_module": "@jupyter-widgets/base",
      "_view_module_version": "1.2.0",
      "_view_name": "LayoutView",
      "align_content": null,
      "align_items": null,
      "align_self": null,
      "border": null,
      "bottom": null,
      "display": null,
      "flex": null,
      "flex_flow": null,
      "grid_area": null,
      "grid_auto_columns": null,
      "grid_auto_flow": null,
      "grid_auto_rows": null,
      "grid_column": null,
      "grid_gap": null,
      "grid_row": null,
      "grid_template_areas": null,
      "grid_template_columns": null,
      "grid_template_rows": null,
      "height": null,
      "justify_content": null,
      "justify_items": null,
      "left": null,
      "margin": null,
      "max_height": null,
      "max_width": null,
      "min_height": null,
      "min_width": null,
      "object_fit": null,
      "object_position": null,
      "order": null,
      "overflow": null,
      "overflow_x": null,
      "overflow_y": null,
      "padding": null,
      "right": null,
      "top": null,
      "visibility": null,
      "width": null
     }
    },
    "80aa9a060efe40659f88d7e673a7e0b6": {
     "model_module": "@jupyter-widgets/base",
     "model_module_version": "1.2.0",
     "model_name": "LayoutModel",
     "state": {
      "_model_module": "@jupyter-widgets/base",
      "_model_module_version": "1.2.0",
      "_model_name": "LayoutModel",
      "_view_count": null,
      "_view_module": "@jupyter-widgets/base",
      "_view_module_version": "1.2.0",
      "_view_name": "LayoutView",
      "align_content": null,
      "align_items": null,
      "align_self": null,
      "border": null,
      "bottom": null,
      "display": null,
      "flex": null,
      "flex_flow": null,
      "grid_area": null,
      "grid_auto_columns": null,
      "grid_auto_flow": null,
      "grid_auto_rows": null,
      "grid_column": null,
      "grid_gap": null,
      "grid_row": null,
      "grid_template_areas": null,
      "grid_template_columns": null,
      "grid_template_rows": null,
      "height": null,
      "justify_content": null,
      "justify_items": null,
      "left": null,
      "margin": null,
      "max_height": null,
      "max_width": null,
      "min_height": null,
      "min_width": null,
      "object_fit": null,
      "object_position": null,
      "order": null,
      "overflow": null,
      "overflow_x": null,
      "overflow_y": null,
      "padding": null,
      "right": null,
      "top": null,
      "visibility": null,
      "width": null
     }
    },
    "84a566e98f5a4cc3b39efacea2640153": {
     "model_module": "@jupyter-widgets/controls",
     "model_module_version": "1.5.0",
     "model_name": "DescriptionStyleModel",
     "state": {
      "_model_module": "@jupyter-widgets/controls",
      "_model_module_version": "1.5.0",
      "_model_name": "DescriptionStyleModel",
      "_view_count": null,
      "_view_module": "@jupyter-widgets/base",
      "_view_module_version": "1.2.0",
      "_view_name": "StyleView",
      "description_width": ""
     }
    },
    "85e55bcdbc20490c817a829e1fa12839": {
     "model_module": "@jupyter-widgets/base",
     "model_module_version": "1.2.0",
     "model_name": "LayoutModel",
     "state": {
      "_model_module": "@jupyter-widgets/base",
      "_model_module_version": "1.2.0",
      "_model_name": "LayoutModel",
      "_view_count": null,
      "_view_module": "@jupyter-widgets/base",
      "_view_module_version": "1.2.0",
      "_view_name": "LayoutView",
      "align_content": null,
      "align_items": null,
      "align_self": null,
      "border": null,
      "bottom": null,
      "display": null,
      "flex": null,
      "flex_flow": null,
      "grid_area": null,
      "grid_auto_columns": null,
      "grid_auto_flow": null,
      "grid_auto_rows": null,
      "grid_column": null,
      "grid_gap": null,
      "grid_row": null,
      "grid_template_areas": null,
      "grid_template_columns": null,
      "grid_template_rows": null,
      "height": null,
      "justify_content": null,
      "justify_items": null,
      "left": null,
      "margin": null,
      "max_height": null,
      "max_width": null,
      "min_height": null,
      "min_width": null,
      "object_fit": null,
      "object_position": null,
      "order": null,
      "overflow": null,
      "overflow_x": null,
      "overflow_y": null,
      "padding": null,
      "right": null,
      "top": null,
      "visibility": null,
      "width": null
     }
    },
    "8e120dcbafac4125a21fc88b35bcde4e": {
     "model_module": "@jupyter-widgets/controls",
     "model_module_version": "1.5.0",
     "model_name": "HTMLModel",
     "state": {
      "_dom_classes": [],
      "_model_module": "@jupyter-widgets/controls",
      "_model_module_version": "1.5.0",
      "_model_name": "HTMLModel",
      "_view_count": null,
      "_view_module": "@jupyter-widgets/controls",
      "_view_module_version": "1.5.0",
      "_view_name": "HTMLView",
      "description": "",
      "description_tooltip": null,
      "layout": "IPY_MODEL_6f533daa467249e584e02da4dcec0198",
      "placeholder": "​",
      "style": "IPY_MODEL_1398ff9b39b845698e41344cc7d676c8",
      "value": " 27/538 [00:35&lt;08:58,  1.05s/it]"
     }
    },
    "94e36ab86a8e46c6b2509dec1218ab6d": {
     "model_module": "@jupyter-widgets/base",
     "model_module_version": "1.2.0",
     "model_name": "LayoutModel",
     "state": {
      "_model_module": "@jupyter-widgets/base",
      "_model_module_version": "1.2.0",
      "_model_name": "LayoutModel",
      "_view_count": null,
      "_view_module": "@jupyter-widgets/base",
      "_view_module_version": "1.2.0",
      "_view_name": "LayoutView",
      "align_content": null,
      "align_items": null,
      "align_self": null,
      "border": null,
      "bottom": null,
      "display": null,
      "flex": null,
      "flex_flow": null,
      "grid_area": null,
      "grid_auto_columns": null,
      "grid_auto_flow": null,
      "grid_auto_rows": null,
      "grid_column": null,
      "grid_gap": null,
      "grid_row": null,
      "grid_template_areas": null,
      "grid_template_columns": null,
      "grid_template_rows": null,
      "height": null,
      "justify_content": null,
      "justify_items": null,
      "left": null,
      "margin": null,
      "max_height": null,
      "max_width": null,
      "min_height": null,
      "min_width": null,
      "object_fit": null,
      "object_position": null,
      "order": null,
      "overflow": null,
      "overflow_x": null,
      "overflow_y": null,
      "padding": null,
      "right": null,
      "top": null,
      "visibility": null,
      "width": null
     }
    },
    "9a286584baaf40469d6d9e057f3b8555": {
     "model_module": "@jupyter-widgets/base",
     "model_module_version": "1.2.0",
     "model_name": "LayoutModel",
     "state": {
      "_model_module": "@jupyter-widgets/base",
      "_model_module_version": "1.2.0",
      "_model_name": "LayoutModel",
      "_view_count": null,
      "_view_module": "@jupyter-widgets/base",
      "_view_module_version": "1.2.0",
      "_view_name": "LayoutView",
      "align_content": null,
      "align_items": null,
      "align_self": null,
      "border": null,
      "bottom": null,
      "display": null,
      "flex": null,
      "flex_flow": null,
      "grid_area": null,
      "grid_auto_columns": null,
      "grid_auto_flow": null,
      "grid_auto_rows": null,
      "grid_column": null,
      "grid_gap": null,
      "grid_row": null,
      "grid_template_areas": null,
      "grid_template_columns": null,
      "grid_template_rows": null,
      "height": null,
      "justify_content": null,
      "justify_items": null,
      "left": null,
      "margin": null,
      "max_height": null,
      "max_width": null,
      "min_height": null,
      "min_width": null,
      "object_fit": null,
      "object_position": null,
      "order": null,
      "overflow": null,
      "overflow_x": null,
      "overflow_y": null,
      "padding": null,
      "right": null,
      "top": null,
      "visibility": null,
      "width": null
     }
    },
    "9abb6dfde55841b695eff4c1f891e5c1": {
     "model_module": "@jupyter-widgets/base",
     "model_module_version": "1.2.0",
     "model_name": "LayoutModel",
     "state": {
      "_model_module": "@jupyter-widgets/base",
      "_model_module_version": "1.2.0",
      "_model_name": "LayoutModel",
      "_view_count": null,
      "_view_module": "@jupyter-widgets/base",
      "_view_module_version": "1.2.0",
      "_view_name": "LayoutView",
      "align_content": null,
      "align_items": null,
      "align_self": null,
      "border": null,
      "bottom": null,
      "display": null,
      "flex": null,
      "flex_flow": null,
      "grid_area": null,
      "grid_auto_columns": null,
      "grid_auto_flow": null,
      "grid_auto_rows": null,
      "grid_column": null,
      "grid_gap": null,
      "grid_row": null,
      "grid_template_areas": null,
      "grid_template_columns": null,
      "grid_template_rows": null,
      "height": null,
      "justify_content": null,
      "justify_items": null,
      "left": null,
      "margin": null,
      "max_height": null,
      "max_width": null,
      "min_height": null,
      "min_width": null,
      "object_fit": null,
      "object_position": null,
      "order": null,
      "overflow": null,
      "overflow_x": null,
      "overflow_y": null,
      "padding": null,
      "right": null,
      "top": null,
      "visibility": null,
      "width": null
     }
    },
    "9dfbeaf990c7479a9f943867a561b579": {
     "model_module": "@jupyter-widgets/controls",
     "model_module_version": "1.5.0",
     "model_name": "HBoxModel",
     "state": {
      "_dom_classes": [],
      "_model_module": "@jupyter-widgets/controls",
      "_model_module_version": "1.5.0",
      "_model_name": "HBoxModel",
      "_view_count": null,
      "_view_module": "@jupyter-widgets/controls",
      "_view_module_version": "1.5.0",
      "_view_name": "HBoxView",
      "box_style": "",
      "children": [
       "IPY_MODEL_0668b90437084ace88679c19924231bb",
       "IPY_MODEL_49cd8478dd4b4a71b2e3117f695a9970",
       "IPY_MODEL_ed1efd6ebd0440f38c160855cfa78314"
      ],
      "layout": "IPY_MODEL_fd801bf87fa440ca88dcf88e33a8b992"
     }
    },
    "a3341d8352da4010989392fc4b059c05": {
     "model_module": "@jupyter-widgets/base",
     "model_module_version": "1.2.0",
     "model_name": "LayoutModel",
     "state": {
      "_model_module": "@jupyter-widgets/base",
      "_model_module_version": "1.2.0",
      "_model_name": "LayoutModel",
      "_view_count": null,
      "_view_module": "@jupyter-widgets/base",
      "_view_module_version": "1.2.0",
      "_view_name": "LayoutView",
      "align_content": null,
      "align_items": null,
      "align_self": null,
      "border": null,
      "bottom": null,
      "display": null,
      "flex": null,
      "flex_flow": null,
      "grid_area": null,
      "grid_auto_columns": null,
      "grid_auto_flow": null,
      "grid_auto_rows": null,
      "grid_column": null,
      "grid_gap": null,
      "grid_row": null,
      "grid_template_areas": null,
      "grid_template_columns": null,
      "grid_template_rows": null,
      "height": null,
      "justify_content": null,
      "justify_items": null,
      "left": null,
      "margin": null,
      "max_height": null,
      "max_width": null,
      "min_height": null,
      "min_width": null,
      "object_fit": null,
      "object_position": null,
      "order": null,
      "overflow": null,
      "overflow_x": null,
      "overflow_y": null,
      "padding": null,
      "right": null,
      "top": null,
      "visibility": null,
      "width": null
     }
    },
    "a6a02e4f05744c38b1cc24ebc6c24aaa": {
     "model_module": "@jupyter-widgets/controls",
     "model_module_version": "1.5.0",
     "model_name": "DescriptionStyleModel",
     "state": {
      "_model_module": "@jupyter-widgets/controls",
      "_model_module_version": "1.5.0",
      "_model_name": "DescriptionStyleModel",
      "_view_count": null,
      "_view_module": "@jupyter-widgets/base",
      "_view_module_version": "1.2.0",
      "_view_name": "StyleView",
      "description_width": ""
     }
    },
    "ae2166a86fe0405698898184f96c1644": {
     "model_module": "@jupyter-widgets/controls",
     "model_module_version": "1.5.0",
     "model_name": "ProgressStyleModel",
     "state": {
      "_model_module": "@jupyter-widgets/controls",
      "_model_module_version": "1.5.0",
      "_model_name": "ProgressStyleModel",
      "_view_count": null,
      "_view_module": "@jupyter-widgets/base",
      "_view_module_version": "1.2.0",
      "_view_name": "StyleView",
      "bar_color": null,
      "description_width": ""
     }
    },
    "b277c4c9a31147179f3ceea25dfe339f": {
     "model_module": "@jupyter-widgets/controls",
     "model_module_version": "1.5.0",
     "model_name": "HBoxModel",
     "state": {
      "_dom_classes": [],
      "_model_module": "@jupyter-widgets/controls",
      "_model_module_version": "1.5.0",
      "_model_name": "HBoxModel",
      "_view_count": null,
      "_view_module": "@jupyter-widgets/controls",
      "_view_module_version": "1.5.0",
      "_view_name": "HBoxView",
      "box_style": "",
      "children": [
       "IPY_MODEL_64d7f495008b4e598eb95089a8c5940d",
       "IPY_MODEL_5273a84f657f4e6ebd034591ab36025e",
       "IPY_MODEL_8e120dcbafac4125a21fc88b35bcde4e"
      ],
      "layout": "IPY_MODEL_9a286584baaf40469d6d9e057f3b8555"
     }
    },
    "b9ae477e3e4e468897b32e818b830ea9": {
     "model_module": "@jupyter-widgets/controls",
     "model_module_version": "1.5.0",
     "model_name": "DescriptionStyleModel",
     "state": {
      "_model_module": "@jupyter-widgets/controls",
      "_model_module_version": "1.5.0",
      "_model_name": "DescriptionStyleModel",
      "_view_count": null,
      "_view_module": "@jupyter-widgets/base",
      "_view_module_version": "1.2.0",
      "_view_name": "StyleView",
      "description_width": ""
     }
    },
    "bd8850b98cc8417fad91759a8afd0662": {
     "model_module": "@jupyter-widgets/base",
     "model_module_version": "1.2.0",
     "model_name": "LayoutModel",
     "state": {
      "_model_module": "@jupyter-widgets/base",
      "_model_module_version": "1.2.0",
      "_model_name": "LayoutModel",
      "_view_count": null,
      "_view_module": "@jupyter-widgets/base",
      "_view_module_version": "1.2.0",
      "_view_name": "LayoutView",
      "align_content": null,
      "align_items": null,
      "align_self": null,
      "border": null,
      "bottom": null,
      "display": null,
      "flex": null,
      "flex_flow": null,
      "grid_area": null,
      "grid_auto_columns": null,
      "grid_auto_flow": null,
      "grid_auto_rows": null,
      "grid_column": null,
      "grid_gap": null,
      "grid_row": null,
      "grid_template_areas": null,
      "grid_template_columns": null,
      "grid_template_rows": null,
      "height": null,
      "justify_content": null,
      "justify_items": null,
      "left": null,
      "margin": null,
      "max_height": null,
      "max_width": null,
      "min_height": null,
      "min_width": null,
      "object_fit": null,
      "object_position": null,
      "order": null,
      "overflow": null,
      "overflow_x": null,
      "overflow_y": null,
      "padding": null,
      "right": null,
      "top": null,
      "visibility": null,
      "width": null
     }
    },
    "ceafbcce4b5a463a99bb14f9c611c0bd": {
     "model_module": "@jupyter-widgets/controls",
     "model_module_version": "1.5.0",
     "model_name": "HBoxModel",
     "state": {
      "_dom_classes": [],
      "_model_module": "@jupyter-widgets/controls",
      "_model_module_version": "1.5.0",
      "_model_name": "HBoxModel",
      "_view_count": null,
      "_view_module": "@jupyter-widgets/controls",
      "_view_module_version": "1.5.0",
      "_view_name": "HBoxView",
      "box_style": "",
      "children": [
       "IPY_MODEL_0f58b1b8af894fa0990cc39d4f0eb2c8",
       "IPY_MODEL_08e70ae7b5fb408690fe9b27f96450c8",
       "IPY_MODEL_117e6bc1ddda4eceb946a67fd0c8c2a7"
      ],
      "layout": "IPY_MODEL_7ea0a1f60efe40eaac8a10762d49db31"
     }
    },
    "dbcf288cfa5344c3bc3c35c87dd22108": {
     "model_module": "@jupyter-widgets/controls",
     "model_module_version": "1.5.0",
     "model_name": "ProgressStyleModel",
     "state": {
      "_model_module": "@jupyter-widgets/controls",
      "_model_module_version": "1.5.0",
      "_model_name": "ProgressStyleModel",
      "_view_count": null,
      "_view_module": "@jupyter-widgets/base",
      "_view_module_version": "1.2.0",
      "_view_name": "StyleView",
      "bar_color": null,
      "description_width": ""
     }
    },
    "dc366bfed5024076b9200ca158058867": {
     "model_module": "@jupyter-widgets/controls",
     "model_module_version": "1.5.0",
     "model_name": "DescriptionStyleModel",
     "state": {
      "_model_module": "@jupyter-widgets/controls",
      "_model_module_version": "1.5.0",
      "_model_name": "DescriptionStyleModel",
      "_view_count": null,
      "_view_module": "@jupyter-widgets/base",
      "_view_module_version": "1.2.0",
      "_view_name": "StyleView",
      "description_width": ""
     }
    },
    "ed1efd6ebd0440f38c160855cfa78314": {
     "model_module": "@jupyter-widgets/controls",
     "model_module_version": "1.5.0",
     "model_name": "HTMLModel",
     "state": {
      "_dom_classes": [],
      "_model_module": "@jupyter-widgets/controls",
      "_model_module_version": "1.5.0",
      "_model_name": "HTMLModel",
      "_view_count": null,
      "_view_module": "@jupyter-widgets/controls",
      "_view_module_version": "1.5.0",
      "_view_name": "HTMLView",
      "description": "",
      "description_tooltip": null,
      "layout": "IPY_MODEL_a3341d8352da4010989392fc4b059c05",
      "placeholder": "​",
      "style": "IPY_MODEL_a6a02e4f05744c38b1cc24ebc6c24aaa",
      "value": " 69/69 [02:46&lt;00:00,  1.33s/it]"
     }
    },
    "f9bbc609aac04087bb050155950c1380": {
     "model_module": "@jupyter-widgets/controls",
     "model_module_version": "1.5.0",
     "model_name": "HTMLModel",
     "state": {
      "_dom_classes": [],
      "_model_module": "@jupyter-widgets/controls",
      "_model_module_version": "1.5.0",
      "_model_name": "HTMLModel",
      "_view_count": null,
      "_view_module": "@jupyter-widgets/controls",
      "_view_module_version": "1.5.0",
      "_view_name": "HTMLView",
      "description": "",
      "description_tooltip": null,
      "layout": "IPY_MODEL_6513d557687b4a7e94fa7a45e900d78f",
      "placeholder": "​",
      "style": "IPY_MODEL_48ebdd627a5f4aed83581347dca942b1",
      "value": " 69/69 [02:23&lt;00:00,  1.18s/it]"
     }
    },
    "fd801bf87fa440ca88dcf88e33a8b992": {
     "model_module": "@jupyter-widgets/base",
     "model_module_version": "1.2.0",
     "model_name": "LayoutModel",
     "state": {
      "_model_module": "@jupyter-widgets/base",
      "_model_module_version": "1.2.0",
      "_model_name": "LayoutModel",
      "_view_count": null,
      "_view_module": "@jupyter-widgets/base",
      "_view_module_version": "1.2.0",
      "_view_name": "LayoutView",
      "align_content": null,
      "align_items": null,
      "align_self": null,
      "border": null,
      "bottom": null,
      "display": null,
      "flex": null,
      "flex_flow": null,
      "grid_area": null,
      "grid_auto_columns": null,
      "grid_auto_flow": null,
      "grid_auto_rows": null,
      "grid_column": null,
      "grid_gap": null,
      "grid_row": null,
      "grid_template_areas": null,
      "grid_template_columns": null,
      "grid_template_rows": null,
      "height": null,
      "justify_content": null,
      "justify_items": null,
      "left": null,
      "margin": null,
      "max_height": null,
      "max_width": null,
      "min_height": null,
      "min_width": null,
      "object_fit": null,
      "object_position": null,
      "order": null,
      "overflow": null,
      "overflow_x": null,
      "overflow_y": null,
      "padding": null,
      "right": null,
      "top": null,
      "visibility": null,
      "width": null
     }
    }
   }
  }
 },
 "nbformat": 4,
 "nbformat_minor": 4
}
